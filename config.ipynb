{
  "nbformat": 4,
  "nbformat_minor": 0,
  "metadata": {
    "colab": {
      "provenance": [],
      "authorship_tag": "ABX9TyOXN/QLqZo/MAPVWvczexS+",
      "include_colab_link": true
    },
    "kernelspec": {
      "name": "python3",
      "display_name": "Python 3"
    },
    "language_info": {
      "name": "python"
    }
  },
  "cells": [
    {
      "cell_type": "markdown",
      "metadata": {
        "id": "view-in-github",
        "colab_type": "text"
      },
      "source": [
        "<a href=\"https://colab.research.google.com/github/jaejunchoe/HAIDS-Lab/blob/main/config.ipynb\" target=\"_parent\"><img src=\"https://colab.research.google.com/assets/colab-badge.svg\" alt=\"Open In Colab\"/></a>"
      ]
    },
    {
      "cell_type": "code",
      "execution_count": null,
      "metadata": {
        "id": "pWLDDUE4Tjur"
      },
      "outputs": [],
      "source": [
        "import torch\n",
        "\n",
        "class Config:\n",
        "    device = torch.device(\"cuda:0\" if torch.cuda.is_available() else \"cpu\")\n",
        "    train_epochs = 20               # 학습 반복 수\n",
        "    batch_size = 128                # 배치 사이즈\n",
        "    learning_rate = 0.002           # 학습률 -> 가중치 업데이트 속도\n",
        "    l2_regularization = 1e-6        # L2 정규화 -> 과적합 방지 용도 / 과적합이 심하면 값을 늘리는 방식으로 수정하길 권함\n",
        "    learning_rate_decay = 0.99      # 학습률 감소 비율 -> 점진적으로 줄이면서 안정적인 학습으로 유도하기 위함\n",
        "\n",
        "    drive_base = '/content/drive/MyDrive/IDS/amaxon reviews 2023'\n",
        "    word2vec_file = f'{drive_base}/glove.6B.50d.txt'\n",
        "    train_file = f'{drive_base}/dataset/cleaned_Transnet_T2_train.csv'\n",
        "    valid_file = f'{drive_base}/dataset/cleaned_Transnet_T2__valid.csv'\n",
        "    test_file = f'{drive_base}/dataset/cleaned_Transnet_T2_test.csv'\n",
        "    model_file = f'{drive_base}/DeepCONN/model_ver02/best_model.pt'\n",
        "\n",
        "    review_count = 10               # 최대 리뷰 수 -> 아이템 당 최대 10개의 리뷰 데이터 활용하겠다\n",
        "    review_length = 40              # 최대 40단어로 제한하겠다\n",
        "    lowest_review_count = 0\n",
        "    PAD_WORD = '<UNK>'              # 패딩 단어\n",
        "\n",
        "    kernel_count = 100              # CNN에서 필터 개수\n",
        "    kernel_size = 3                 # 필터 크기\n",
        "    dropout_prob = 0.5              # 드롭아웃의 확률: 과적합 방지를 위한 비활성화 확률\n",
        "    cnn_out_dim = 50                # CNN 출력 차원"
      ]
    }
  ]
}