{
  "nbformat": 4,
  "nbformat_minor": 0,
  "metadata": {
    "colab": {
      "provenance": [],
      "authorship_tag": "ABX9TyMPFW9obaA1NkEh2sE4TZ6C",
      "include_colab_link": true
    },
    "kernelspec": {
      "name": "python3",
      "display_name": "Python 3"
    },
    "language_info": {
      "name": "python"
    }
  },
  "cells": [
    {
      "cell_type": "markdown",
      "metadata": {
        "id": "view-in-github",
        "colab_type": "text"
      },
      "source": [
        "<a href=\"https://colab.research.google.com/github/jaejunchoe/HAIDS-Lab/blob/main/config.ipynb\" target=\"_parent\"><img src=\"https://colab.research.google.com/assets/colab-badge.svg\" alt=\"Open In Colab\"/></a>"
      ]
    },
    {
      "cell_type": "code",
      "execution_count": null,
      "metadata": {
        "id": "5DyGpO_2_-lw"
      },
      "outputs": [],
      "source": [
        "# Config 클래스 정의\n",
        "\n",
        "import torch\n",
        "\n",
        "class Config:\n",
        "    def __init__(self):\n",
        "        self.device = torch.device(\"cuda:0\" if torch.cuda.is_available() else \"cpu\")\n",
        "        self.train_epochs = 15\n",
        "        self.batch_size = 128\n",
        "        self.learning_rate = 0.002          # 초기 학습\n",
        "        self.l2_regularization = 1e-6       # 가중치에 대한 L2 정규화 계\n",
        "        self.learning_rate_decay = 0.99     # 학습이 진행될수록 학습률을 점진적으로 감소\n",
        "                                            # 즉, 매 에포크(혹은 특정 단계)마다 학습률이 이전 학습률의 99%로 감소함을 의미합니다.\n",
        "\n",
        "        self.drive_base = '/content/drive/MyDrive/IDS/amaxon reviews 2023'\n",
        "        self.train_file = f'{self.drive_base}/Transnet/T2/train.csv'\n",
        "        self.valid_file = f'{self.drive_base}/Transnet/T2/valid.csv'\n",
        "        self.test_file = f'{self.drive_base}/Transnet/T2/test.csv'\n",
        "        self.model_file = f'{self.drive_base}/Transnet/T3/ver02_best_model.pt'\n",
        "        self.extension = False\n",
        "        self.user_count = 15225             # preprocess 상에서의 users 값을 기입해야함\n",
        "        self.item_count = 641                # preprocess 상에서의 items 값을 기입해야함\n",
        "        self.review_count = 10               # 최대 리뷰 개수 설정\n",
        "        self.review_length = 80                  # review 최대 길이\n",
        "        self.lowest_review_count = 1        ## orignal 2\n",
        "        self.PAD_WORD = '<UNK>'             # review 길이가 부족한 경우 Padding으로 채움\n",
        "        self.kernel_count = 100              # Kernel 개수\n",
        "        self.kernel_size = 3                     # Window size\n",
        "        self.dropout_prob = 0.5              # Dropout rate\n",
        "        self.cnn_out_dim = 50                    # Latent Feature dimension"
      ]
    }
  ]
}