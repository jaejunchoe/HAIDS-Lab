{
  "nbformat": 4,
  "nbformat_minor": 0,
  "metadata": {
    "colab": {
      "provenance": [],
      "machine_shape": "hm",
      "gpuType": "A100",
      "collapsed_sections": [
        "VI7fQxwtzst0"
      ],
      "authorship_tag": "ABX9TyNcdlMoouJFi7hyWz+xQXQh",
      "include_colab_link": true
    },
    "kernelspec": {
      "name": "python3",
      "display_name": "Python 3"
    },
    "language_info": {
      "name": "python"
    },
    "accelerator": "GPU"
  },
  "cells": [
    {
      "cell_type": "markdown",
      "metadata": {
        "id": "view-in-github",
        "colab_type": "text"
      },
      "source": [
        "<a href=\"https://colab.research.google.com/github/jaejunchoe/HAIDS-Lab/blob/main/Upload_Transnet.ipynb\" target=\"_parent\"><img src=\"https://colab.research.google.com/assets/colab-badge.svg\" alt=\"Open In Colab\"/></a>"
      ]
    },
    {
      "cell_type": "markdown",
      "source": [
        "# 준비준비"
      ],
      "metadata": {
        "id": "VI7fQxwtzst0"
      }
    },
    {
      "cell_type": "code",
      "execution_count": null,
      "metadata": {
        "colab": {
          "base_uri": "https://localhost:8080/"
        },
        "id": "p7435BnR5e8r",
        "outputId": "63255145-630e-4d0b-8142-5c9d67834d6d"
      },
      "outputs": [
        {
          "output_type": "stream",
          "name": "stdout",
          "text": [
            "Reading package lists... Done\n",
            "Building dependency tree... Done\n",
            "Reading state information... Done\n",
            "The following NEW packages will be installed:\n",
            "  fonts-nanum\n",
            "0 upgraded, 1 newly installed, 0 to remove and 49 not upgraded.\n",
            "Need to get 10.3 MB of archives.\n",
            "After this operation, 34.1 MB of additional disk space will be used.\n",
            "Get:1 http://archive.ubuntu.com/ubuntu jammy/universe amd64 fonts-nanum all 20200506-1 [10.3 MB]\n",
            "Fetched 10.3 MB in 1s (7,547 kB/s)\n",
            "debconf: unable to initialize frontend: Dialog\n",
            "debconf: (No usable dialog-like program is installed, so the dialog based frontend cannot be used. at /usr/share/perl5/Debconf/FrontEnd/Dialog.pm line 78, <> line 1.)\n",
            "debconf: falling back to frontend: Readline\n",
            "debconf: unable to initialize frontend: Readline\n",
            "debconf: (This frontend requires a controlling tty.)\n",
            "debconf: falling back to frontend: Teletype\n",
            "dpkg-preconfigure: unable to re-open stdin: \n",
            "Selecting previously unselected package fonts-nanum.\n",
            "(Reading database ... 123635 files and directories currently installed.)\n",
            "Preparing to unpack .../fonts-nanum_20200506-1_all.deb ...\n",
            "Unpacking fonts-nanum (20200506-1) ...\n",
            "Setting up fonts-nanum (20200506-1) ...\n",
            "Processing triggers for fontconfig (2.13.1-4.2ubuntu5) ...\n",
            "/usr/share/fonts: caching, new cache contents: 0 fonts, 1 dirs\n",
            "/usr/share/fonts/truetype: caching, new cache contents: 0 fonts, 3 dirs\n",
            "/usr/share/fonts/truetype/humor-sans: caching, new cache contents: 1 fonts, 0 dirs\n",
            "/usr/share/fonts/truetype/liberation: caching, new cache contents: 16 fonts, 0 dirs\n",
            "/usr/share/fonts/truetype/nanum: caching, new cache contents: 12 fonts, 0 dirs\n",
            "/usr/local/share/fonts: caching, new cache contents: 0 fonts, 0 dirs\n",
            "/root/.local/share/fonts: skipping, no such directory\n",
            "/root/.fonts: skipping, no such directory\n",
            "/usr/share/fonts/truetype: skipping, looped directory detected\n",
            "/usr/share/fonts/truetype/humor-sans: skipping, looped directory detected\n",
            "/usr/share/fonts/truetype/liberation: skipping, looped directory detected\n",
            "/usr/share/fonts/truetype/nanum: skipping, looped directory detected\n",
            "/var/cache/fontconfig: cleaning cache directory\n",
            "/root/.cache/fontconfig: not cleaning non-existent cache directory\n",
            "/root/.fontconfig: not cleaning non-existent cache directory\n",
            "fc-cache: succeeded\n"
          ]
        }
      ],
      "source": [
        "## 1번 실행 -> 런타임 다시 시작 -> 2번 실행 -> 3번 실행\n",
        "\n",
        "## 1번\n",
        "\n",
        "!sudo apt-get install -y fonts-nanum\n",
        "!sudo fc-cache -fv\n",
        "!rm ~/.cache/matplotlib -rf"
      ]
    },
    {
      "cell_type": "code",
      "source": [
        "## 2번\n",
        "\n",
        "import matplotlib.pyplot as plt\n",
        "\n",
        "plt.rc('font', family='NanumBarunGothic')"
      ],
      "metadata": {
        "id": "2m1UYVtZ5olT"
      },
      "execution_count": null,
      "outputs": []
    },
    {
      "cell_type": "code",
      "source": [
        "## 3번\n",
        "\n",
        "import pandas as pd\n",
        "import matplotlib.pyplot as plt\n",
        "import matplotlib.font_manager as fm\n",
        "import seaborn as sns\n",
        "\n",
        "# 나눔고딕 폰트 경로 설정\n",
        "path = '/usr/share/fonts/truetype/nanum/NanumGothic.ttf'\n",
        "font_name = fm.FontProperties(fname=path, size=10).get_name()\n",
        "plt.rc('font', family=font_name)\n",
        "\n",
        "# 그래프 그리기 예시\n",
        "data = {'가나다': [10, 15, 7], '라마바': [20, 8, 12]}\n",
        "df = pd.DataFrame(data)\n",
        "sns.barplot(data=df, x='가나다', y='라마바')\n",
        "plt.title('한글 그래프')\n",
        "plt.show()\n"
      ],
      "metadata": {
        "colab": {
          "base_uri": "https://localhost:8080/",
          "height": 469
        },
        "id": "6Col4BxW5oxi",
        "outputId": "628e917a-9560-4420-c29f-643fad34bf09"
      },
      "execution_count": null,
      "outputs": [
        {
          "output_type": "display_data",
          "data": {
            "text/plain": [
              "<Figure size 640x480 with 1 Axes>"
            ],
            "image/png": "[encoded data removed]"
          },
          "metadata": {}
        }
      ]
    },
    {
      "cell_type": "markdown",
      "source": [
        "# 시작"
      ],
      "metadata": {
        "id": "OTjEGCFql9-m"
      }
    },
    {
      "cell_type": "code",
      "source": [
        "from google.colab import drive\n",
        "drive.mount('/content/drive')"
      ],
      "metadata": {
        "colab": {
          "base_uri": "https://localhost:8080/"
        },
        "id": "LA8nk69CmK9m",
        "outputId": "b8fca896-a67f-4a93-c199-9a7ff74cdf5e"
      },
      "execution_count": null,
      "outputs": [
        {
          "output_type": "stream",
          "name": "stdout",
          "text": [
            "Mounted at /content/drive\n"
          ]
        }
      ]
    },
    {
      "cell_type": "code",
      "source": [
        "import os\n",
        "import pandas as pd\n",
        "\n",
        "# 파일 경로\n",
        "train_file = '/content/drive/MyDrive/IDS/amaxon reviews 2023/Transnet/T2/train.csv'\n",
        "valid_file = '/content/drive/MyDrive/IDS/amaxon reviews 2023/Transnet/T2/valid.csv'\n",
        "test_file = '/content/drive/MyDrive/IDS/amaxon reviews 2023/Transnet/T2/test.csv'\n",
        "\n",
        "# 파일 존재 확인\n",
        "for file_path in [train_file, valid_file, test_file]:\n",
        "    if os.path.exists(file_path):\n",
        "        print(f\"{file_path} exists.\")\n",
        "    else:\n",
        "        print(f\"{file_path} is missing!\")\n",
        "\n",
        "# 데이터 내용 확인\n",
        "for file_path in [train_file, valid_file, test_file]:\n",
        "    if os.path.exists(file_path):\n",
        "        df = pd.read_csv(file_path, header=None, names=['userID', 'itemID', 'review', 'rating'])\n",
        "        print(f\"\\nContents of {file_path}:\")\n",
        "        print(df.head())\n"
      ],
      "metadata": {
        "colab": {
          "base_uri": "https://localhost:8080/"
        },
        "id": "p1oXIk4EsKYV",
        "outputId": "6dccf627-71fe-421f-fbf7-644f2602612c"
      },
      "execution_count": null,
      "outputs": [
        {
          "output_type": "stream",
          "name": "stdout",
          "text": [
            "/content/drive/MyDrive/IDS/amaxon reviews 2023/Transnet/T2/train.csv exists.\n",
            "/content/drive/MyDrive/IDS/amaxon reviews 2023/Transnet/T2/valid.csv exists.\n",
            "/content/drive/MyDrive/IDS/amaxon reviews 2023/Transnet/T2/test.csv exists.\n",
            "\n",
            "Contents of /content/drive/MyDrive/IDS/amaxon reviews 2023/Transnet/T2/train.csv:\n",
            "                         userID      itemID  \\\n",
            "0  AFRMDWBD4RXSHKFZUOH6FGVP5I6Q  B07KJJ2DSH   \n",
            "1  AENNGBGNPATANRDSKCSL5HHBGO4A  B07MGJZ2MH   \n",
            "2  AG2YFAVEZSNFDWKJGHKCYEHM376A  B08D6W9F21   \n",
            "3  AGUFZQ2FSNOAEQ3FOQ4PI5G2FCRQ  B08KWLQD46   \n",
            "4  AHPSOZJQRM54EEZSHNKW63Q22RYA  B0933F8BYP   \n",
            "\n",
            "                                              review  rating  \n",
            "0  thoroughly enjoyed month craft project far not...       5  \n",
            "1  like trying different flavors snacks might lik...       5  \n",
            "2                 love shirts subscription going get       5  \n",
            "3  unoriginal variation style cheap projects easi...       3  \n",
            "4  well made high quality vibrant colors fits wel...       5  \n",
            "\n",
            "Contents of /content/drive/MyDrive/IDS/amaxon reviews 2023/Transnet/T2/valid.csv:\n",
            "                         userID      itemID  \\\n",
            "0  AG5TO5QYA32TLI2Y5VWZVODBLYSQ  B07DNLTBG7   \n",
            "1  AFC7DQQYW24ECB7WPZ3LZL4ZEUTQ  B07NL9WZZD   \n",
            "2  AGUCXXETYSB32T3NUTJXMUOVHXTQ  B07DNLTBG7   \n",
            "3  AF4ZXHJ67PTD5TMY3EH4DRT5BYWQ  B07TZN3YST   \n",
            "4  AF3ERSE4FHRXP6PV7MYXBZAMEPOQ  B07MGJZ2MH   \n",
            "\n",
            "                                              review  rating  \n",
            "0  deadpool box came 2 things could bought locall...       2  \n",
            "1  contents cute arrived late suppose halloween b...       3  \n",
            "2                        really nice everything love       5  \n",
            "3  shocked anyone keeps subscription past first m...       1  \n",
            "4  way expensive bought lived japan years miss mu...       5  \n",
            "\n",
            "Contents of /content/drive/MyDrive/IDS/amaxon reviews 2023/Transnet/T2/test.csv:\n",
            "                         userID      itemID  \\\n",
            "0  AFABB24ZLP4THNF4OHKQZK4RUMAA  B081W8SGPY   \n",
            "1  AECOVJFGGCNYXJQ5A57ZEAROIKCQ  B086J8Y6BR   \n",
            "2  AHA44HF4RZQAGAJUT7UR6GNL2LQA  B07VBB4GLM   \n",
            "3  AGBXIWAOUXLEBPMAPHJXBFJG24TA  B084ZSS5H1   \n",
            "4  AGJD5E4O4MFG4AIGBKIYP75WPS2A  B08DSKJJ7V   \n",
            "\n",
            "                                              review  rating  \n",
            "0  coffee alright main problem received 4 boxes 4...       3  \n",
            "1  sure ' worth 25 4 year old super excited liked...       3  \n",
            "2  therabox allowed continue scamming like still ...       1  \n",
            "3  daughter excited unboxing keep box unbox smile...       5  \n",
            "4  pitbull destroys toys seconds glad ' ve found ...       5  \n"
          ]
        }
      ]
    },
    {
      "cell_type": "markdown",
      "source": [
        "# Hyperparameter"
      ],
      "metadata": {
        "id": "iDJszx_kmrgt"
      }
    },
    {
      "cell_type": "code",
      "source": [
        "# Config 클래스 정의\n",
        "class Config:\n",
        "    def __init__(self):\n",
        "        self.device = torch.device(\"cuda:0\" if torch.cuda.is_available() else \"cpu\")\n",
        "        self.train_epochs = 15\n",
        "        self.batch_size = 128\n",
        "        self.learning_rate = 0.002          # 초기 학습\n",
        "        self.l2_regularization = 1e-6       # 가중치에 대한 L2 정규화 계\n",
        "        self.learning_rate_decay = 0.99     # 학습이 진행될수록 학습률을 점진적으로 감소\n",
        "                                            # 즉, 매 에포크(혹은 특정 단계)마다 학습률이 이전 학습률의 99%로 감소함을 의미합니다.\n",
        "        self.train_file = '/content/drive/MyDrive/IDS/amaxon reviews 2023/Transnet/T2/train.csv'\n",
        "        self.valid_file = '/content/drive/MyDrive/IDS/amaxon reviews 2023/Transnet/T2/valid.csv'\n",
        "        self.test_file = '/content/drive/MyDrive/IDS/amaxon reviews 2023/Transnet/T2/test.csv'\n",
        "        self.model_file = '/content/drive/MyDrive/IDS/amaxon reviews 2023/Transnet/T2/best_model.pt'\n",
        "        self.extension = False\n",
        "        self.user_count = 15225             # preprocess 상에서의 users 값을 기입해야함\n",
        "        self.item_count = 641                # preprocess 상에서의 items 값을 기입해야함\n",
        "        self.review_count = 10               # 최대 리뷰 개수 설정\n",
        "        self.review_length = 80                  # review 최대 길이\n",
        "        self.lowest_review_count = 1        ## orignal 2\n",
        "        self.PAD_WORD = '<UNK>'             # review 길이가 부족한 경우 Padding으로 채움\n",
        "        self.kernel_count = 100              # Kernel 개수\n",
        "        self.kernel_size = 3                     # Window size\n",
        "        self.dropout_prob = 0.5              # Dropout rate\n",
        "        self.cnn_out_dim = 50                    # Latent Feature dimension"
      ],
      "metadata": {
        "id": "vqTun3grmW9N"
      },
      "execution_count": null,
      "outputs": []
    },
    {
      "cell_type": "code",
      "source": [
        "import time\n",
        "import pandas as pd\n",
        "import torch\n",
        "from torch.nn import functional as F\n",
        "from torch.utils.data import Dataset\n",
        "\n",
        "\n",
        "def date(f='%Y-%m-%d %H:%M:%S'):\n",
        "    return time.strftime(f, time.localtime())\n",
        "\n",
        "\n",
        "def calculate_mse(model, dataloader, device):\n",
        "    mse, sample_count = 0, 0\n",
        "    with torch.no_grad():\n",
        "        for batch in dataloader:\n",
        "            user_reviews, item_reviews, reviews, ratings, user_ids, item_ids = [x.to(device) for x in batch]\n",
        "            latent, predict = model(user_reviews, item_reviews, user_ids, item_ids)\n",
        "            mse += F.mse_loss(predict, ratings, reduction='sum').item()\n",
        "            sample_count += len(ratings)\n",
        "    return mse / sample_count  # mse of dataloader"
      ],
      "metadata": {
        "id": "FyisnKRsXtP-"
      },
      "execution_count": null,
      "outputs": []
    },
    {
      "cell_type": "markdown",
      "source": [
        "# Trans Network Dataset Setting"
      ],
      "metadata": {
        "id": "4bzVinekZQh-"
      }
    },
    {
      "cell_type": "code",
      "source": [
        "\n",
        "\n",
        "\n",
        "class TransNetsDataset(Dataset):\n",
        "    # 초기화 매서드(데이터셋 초기화 및 필요 변수 설정)\n",
        "    def __init__(self, data_path, word_dict, config):\n",
        "        self.word_dict = word_dict\n",
        "        self.r_count = config.review_count\n",
        "        self.r_length = config.review_length\n",
        "        self.lowest_r_count = config.lowest_review_count\n",
        "        self.PAD_WORD_idx = word_dict[config.PAD_WORD]\n",
        "\n",
        "        ## 데이터 읽기\n",
        "        df = pd.read_csv(data_path, header=None, names=['userID', 'itemID', 'review', 'rating'])\n",
        "\n",
        "        ## userID와 itemID를 숫자로 변환\n",
        "        df['userID'] = df['userID'].astype('category').cat.codes\n",
        "        df['itemID'] = df['itemID'].astype('category').cat.codes\n",
        "\n",
        "        ## 리뷰 데이터를 ID로 변환\n",
        "        df['review'] = df['review'].apply(self._review2id)\n",
        "        self.null_idx = set()\n",
        "\n",
        "        ## 사용자 및 아이템 리뷰 생성\n",
        "        user_reviews = self._get_reviews(df)\n",
        "        item_reviews = self._get_reviews(df, 'itemID', 'userID')\n",
        "\n",
        "        ## 리뷰, 평점, 사용자 및 아이템 ID를 텐서로 변환\n",
        "        reviews = [self._adjust_review_list([x], 1, self.r_length) for x in df['review']]\n",
        "        reviews = torch.LongTensor(reviews).view(-1, self.r_length)\n",
        "        rating = torch.Tensor(df['rating'].to_list()).view(-1, 1)\n",
        "        user_ids = torch.LongTensor(df['userID'].to_list()).view(-1, 1)\n",
        "        item_ids = torch.LongTensor(df['itemID'].to_list()).view(-1, 1)\n",
        "\n",
        "        self.user_reviews = user_reviews\n",
        "        self.item_reviews = item_reviews\n",
        "        self.reviews = reviews\n",
        "        self.rating = rating\n",
        "        self.user_ids = user_ids\n",
        "        self.item_ids = item_ids\n",
        "\n",
        "    # 인덱싱 매서드(특정 인덱스에 해당되는 샘플 데이터를 반환)\n",
        "    def __getitem__(self, idx):\n",
        "        return self.user_reviews[idx], self.item_reviews[idx], self.reviews[idx], self.rating[idx],\\\n",
        "                self.user_ids[idx], self.item_ids[idx]\n",
        "\n",
        "    # 길이 메서드(데이터셋 전체 샘플 수를 반환)\n",
        "    def __len__(self):\n",
        "        return self.rating.shape[0]\n",
        "\n",
        "    # 사용자와 아이템 리뷰 생성 메서드 (특정 사용자 또는 아이템과 연관된 리뷰를 반환)\n",
        "    def _get_reviews(self, df, lead='userID', costar='itemID'):\n",
        "        reviews_by_lead = dict(list(df[[costar, 'review']].groupby(df[lead])))\n",
        "        lead_reviews = []\n",
        "        for idx, (lead_id, costar_id) in enumerate(zip(df[lead], df[costar])):\n",
        "\n",
        "        ## 관련없는 리뷰만 갖도록 필터링\n",
        "            df_data = reviews_by_lead[lead_id]\n",
        "            reviews = df_data['review'][df_data[costar] != costar_id].to_list()\n",
        "\n",
        "        ## 리뷰 정렬 및 변환\n",
        "            reviews = self._adjust_review_list(reviews, self.r_count, self.r_length)\n",
        "            lead_reviews.append(reviews)\n",
        "        return torch.LongTensor(lead_reviews)\n",
        "\n",
        "\n",
        "    # 리뷰 리스트 조정 메서드 (일정 개수(10개)와 길이(80개)로 조절)\n",
        "    def _adjust_review_list(self, reviews, r_count, r_length):\n",
        "        reviews = reviews[:r_count] + [[self.PAD_WORD_idx] * r_length] * (r_count - len(reviews))  # Certain count.\n",
        "        reviews = [r[:r_length] + [0] * (r_length - len(r)) for r in reviews]  # Certain length of review.\n",
        "        return reviews\n",
        "\n",
        "    # 리뷰를 단어 ID로 변환하는 매서드\n",
        "    def _review2id(self, review):\n",
        "        if not isinstance(review, str):  # 리뷰가 문자열인지 확인\n",
        "            return []  # 문자열이 아니면 빈 리스트 반환\n",
        "        return [self.word_dict.get(word, self.PAD_WORD_idx) for word in review.split()]\n",
        "\n"
      ],
      "metadata": {
        "id": "gle_2uA5mbT9"
      },
      "execution_count": null,
      "outputs": []
    },
    {
      "cell_type": "markdown",
      "source": [
        "def _review2id(self, review):  # Split a sentence into words, and map each word to a unique number by dict.\n",
        "    if not isinstance(review, str):\n",
        "        return []\n",
        "    wids = []\n",
        "    for word in review.split():\n",
        "        if word in self.word_dict:\n",
        "            wids.append(self.word_dict[word])  # word to unique number by dict.\n",
        "        else:\n",
        "            wids.append(self.PAD_WORD_idx)\n",
        "    return wids\n"
      ],
      "metadata": {
        "id": "w5TFAtYst-tV"
      }
    },
    {
      "cell_type": "markdown",
      "source": [
        "# Model Architecture"
      ],
      "metadata": {
        "id": "NMBpA0RonGK2"
      }
    },
    {
      "cell_type": "markdown",
      "source": [
        "3.2.2 CNN Text Processor"
      ],
      "metadata": {
        "id": "cduTjfngUOwB"
      }
    },
    {
      "cell_type": "code",
      "source": [
        "# 모델 정의\n",
        "import torch\n",
        "from torch import nn\n",
        "\n",
        "\n",
        "class CNN(nn.Module):\n",
        "    def __init__(self, config, word_dim, review_count=1):\n",
        "        super(CNN, self).__init__()\n",
        "        self.kernel_count = config.kernel_count\n",
        "        self.review_count = review_count\n",
        "\n",
        "        self.conv = nn.Sequential(\n",
        "            nn.Conv1d(\n",
        "                in_channels=word_dim,\n",
        "                out_channels=config.kernel_count,\n",
        "                kernel_size=config.kernel_size,\n",
        "                padding=(config.kernel_size - 1) // 2),         # out shape(new_batch_size, kernel_count, review_length)\n",
        "            nn.ReLU(),\n",
        "            nn.MaxPool2d(kernel_size=(1, config.review_length)),        # out shape(new_batch_size,kernel_count,1)\n",
        "        )\n",
        "\n",
        "        self.linear = nn.Sequential(\n",
        "            nn.Linear(config.kernel_count * self.review_count, config.cnn_out_dim),\n",
        "            nn.Tanh(),\n",
        "        )\n",
        "\n",
        "    def forward(self, vec):                                     # input shape(new_batch_size, review_length, word2vec_dim)\n",
        "                                                                # (1280,80,64)\n",
        "        latent = self.conv(vec.permute(0, 2, 1))                # output shape(new_batch_size, kernel_count, 1)\n",
        "        latent = latent.view(-1, self.kernel_count * self.review_count)\n",
        "        latent = self.linear(latent)\n",
        "        return latent                                           # output shape(batch_size, cnn_out_dim)"
      ],
      "metadata": {
        "id": "gpTi_lXCUJLR"
      },
      "execution_count": null,
      "outputs": []
    },
    {
      "cell_type": "markdown",
      "source": [
        "3.2.3 Dropout Layer and Factorization Machines(FM)"
      ],
      "metadata": {
        "id": "yntFrsw6UYYg"
      }
    },
    {
      "cell_type": "markdown",
      "source": [
        "Factorization Machine(FM)"
      ],
      "metadata": {
        "id": "-pKR_bNbU5iP"
      }
    },
    {
      "cell_type": "code",
      "source": [
        "class FactorizationMachine(nn.Module):\n",
        "    def __init__(self, in_dim, k):                                 # in_dim=cnn_out_dim\n",
        "        super(FactorizationMachine, self).__init__()\n",
        "        self.v = nn.Parameter(torch.full([in_dim, k], 0.001))       # 3.2.5 TransNet-Ext\n",
        "        self.linear = nn.Linear(in_dim, 1)\n",
        "        self.linear.weight.data.normal_(mean=0, std=0.001)          # 3.2.5 TransNet-Ext\n",
        "\n",
        "    def forward(self, x):\n",
        "        linear_part = self.linear(x)                                # input shape(batch_size, cnn_out_dim), output shape(batch_size, 1)\n",
        "        inter_part1 = torch.mm(x, self.v)\n",
        "        inter_part2 = torch.mm(x ** 2, self.v ** 2)\n",
        "        pair_interactions = torch.sum(inter_part1 ** 2 - inter_part2, dim=1)\n",
        "        output = linear_part.t() + 0.5 * pair_interactions\n",
        "        return output.view(-1, 1)                                   # output shape(batch_size, 1)"
      ],
      "metadata": {
        "id": "tIfdmyZuUYge"
      },
      "execution_count": null,
      "outputs": []
    },
    {
      "cell_type": "markdown",
      "source": [
        "Source Network"
      ],
      "metadata": {
        "id": "qQqgX_VyUlNW"
      }
    },
    {
      "cell_type": "code",
      "source": [
        "class SourceNet(nn.Module):\n",
        "    def __init__(self, config, word_emb, extend_model=False):\n",
        "        super(SourceNet, self).__init__()\n",
        "        self.extend_model = extend_model\n",
        "        self.embedding = nn.Embedding.from_pretrained(torch.Tensor(word_emb))\n",
        "        self.cnn_u = CNN(config, word_dim=self.embedding.embedding_dim, review_count=config.review_count)           # 3.2.5 TransNet-Ext\n",
        "        self.cnn_i = CNN(config, word_dim=self.embedding.embedding_dim, review_count=config.review_count)           # 3.2.5 TransNet-Ext\n",
        "        self.transform = nn.Sequential(\n",
        "            nn.Linear(config.cnn_out_dim * 2, config.cnn_out_dim),\n",
        "            nn.Tanh(),\n",
        "            nn.Linear(config.cnn_out_dim, config.cnn_out_dim),\n",
        "            nn.Tanh(),\n",
        "            nn.Dropout(p=config.dropout_prob)\n",
        "        )\n",
        "\n",
        "        for m in self.transform.modules():\n",
        "            if isinstance(m, nn.Linear):\n",
        "                m.weight.data.normal_(mean=0, std=0.1).clamp_(-1, 1)        # 3.2.4 Transform Hyperparameter\n",
        "                nn.init.constant_(m.bias.data, 0.1)\n",
        "\n",
        "\n",
        "\n",
        "        if self.extend_model:\n",
        "            self.emb_u = nn.Embedding(config.user_count, config.cnn_out_dim, padding_idx=0)\n",
        "            self.emb_i = nn.Embedding(config.item_count, config.cnn_out_dim, padding_idx=0)\n",
        "            self.fm = FactorizationMachine(in_dim=config.cnn_out_dim * 3, k=8)\n",
        "        else:\n",
        "            self.fm = FactorizationMachine(in_dim=config.cnn_out_dim, k=8)\n",
        "\n",
        "    def forward(self, user_reviews, item_reviews, user_ids, item_ids):              # shape(batch_size, review_count, review_length)\n",
        "\n",
        "        new_batch_size = user_reviews.shape[0] * user_reviews.shape[1]\n",
        "        u_vec = user_reviews.view(new_batch_size, -1)\n",
        "        i_vec = item_reviews.view(new_batch_size, -1)\n",
        "\n",
        "\n",
        "        u_vec = self.embedding(user_reviews.view(-1, user_reviews.shape[-1]))\n",
        "        i_vec = self.embedding(item_reviews.view(-1, item_reviews.shape[-1]))\n",
        "\n",
        "     ###########################################################\n",
        "\n",
        "        # Algorithm 3. Testing using TransNet\n",
        "            ## Step 1. Transform the input\n",
        "\n",
        "        user_latent = self.cnn_u(u_vec)\n",
        "        item_latent = self.cnn_i(i_vec)\n",
        "\n",
        "        concat_latent = torch.cat((user_latent, item_latent), dim=1)\n",
        "        trans_latent = self.transform(concat_latent)\n",
        "\n",
        "        if self.extend_model:\n",
        "            omega_u = self.emb_u(user_ids.view(-1))\n",
        "            omega_i = self.emb_i(item_ids.view(-1))\n",
        "            latent = torch.cat([omega_u, omega_i, trans_latent.detach()], dim=1)\n",
        "            prediction = self.fm(latent)\n",
        "        else:\n",
        "\n",
        "     ###########################################################\n",
        "\n",
        "            # Algorithm 3. Testing using TransNet\n",
        "                ## Step 2. Predict using the transformed input\n",
        "\n",
        "            prediction = self.fm(trans_latent.detach())         # Transform 레이어 출력(trans_latent)이 FM에 전달되어 평점 예측\n",
        "        return trans_latent, prediction\n",
        "\n",
        "    ###########################################################\n",
        "\n",
        "    # Algorithm 2. Transform the input\n",
        "\n",
        "    def trans_param(self):\n",
        "        return [x for x in self.cnn_u.parameters()] + \\\n",
        "               [x for x in self.cnn_i.parameters()] + \\\n",
        "               [x for x in self.transform.parameters()]\n",
        "\n",
        "    ###########################################################"
      ],
      "metadata": {
        "id": "VX22qgkYUlV2"
      },
      "execution_count": null,
      "outputs": []
    },
    {
      "cell_type": "markdown",
      "source": [
        "Target Network"
      ],
      "metadata": {
        "id": "-SrqsMY6Vexf"
      }
    },
    {
      "cell_type": "code",
      "source": [
        "class TargetNet(nn.Module):\n",
        "    def __init__(self, config, word_emb):\n",
        "        super(TargetNet, self).__init__()\n",
        "        self.embedding = nn.Embedding.from_pretrained(torch.Tensor(word_emb))\n",
        "        self.cnn = CNN(config, word_dim=self.embedding.embedding_dim, review_count=1)\n",
        "        self.fm = nn.Sequential(\n",
        "            nn.Dropout(config.dropout_prob),                        # Since cnn did not dropout, dropout before FM.\n",
        "            FactorizationMachine(in_dim=config.cnn_out_dim, k=8)\n",
        "        )\n",
        "\n",
        "    def forward(self, reviews):                                     # input shape(batch_size, review_length)\n",
        "        vec = self.embedding(reviews)\n",
        "                                                                    # 추가: Embedding 결과 크기 확인\n",
        "                                                                    # [batch_size, review_length, embedding_dim] = 128,80,64\n",
        "        cnn_latent = self.cnn(vec)\n",
        "        prediction = self.fm(cnn_latent)\n",
        "        return cnn_latent, prediction\n"
      ],
      "metadata": {
        "id": "jpI7zC-TVgtv"
      },
      "execution_count": null,
      "outputs": []
    },
    {
      "cell_type": "markdown",
      "source": [
        "# Training and Test Function"
      ],
      "metadata": {
        "id": "LQ3OZrChVil3"
      }
    },
    {
      "cell_type": "markdown",
      "source": [
        "3.2.6 Training"
      ],
      "metadata": {
        "id": "sTC-zpDMZ0Y5"
      }
    },
    {
      "cell_type": "code",
      "source": [
        "# 학습 및 테스트 함수\n",
        "def train(train_dataloader, valid_dataloader, model_S, model_T, config, model_path):\n",
        "    print(f'{date()}## Start the training!')\n",
        "    train_mse = calculate_mse(model_S, train_dataloader, config.device)\n",
        "    valid_mse = calculate_mse(model_S, valid_dataloader, config.device)\n",
        "    print(f'{date()}#### Initial train mse {train_mse:.6f}, validation mse {valid_mse:.6f}')\n",
        "    start_time = time.perf_counter()\n",
        "\n",
        "    opt_S = torch.optim.Adam(model_S.parameters(), config.learning_rate, weight_decay=config.l2_regularization)\n",
        "    opt_trans = torch.optim.Adam(model_S.trans_param(), config.learning_rate, weight_decay=config.l2_regularization)\n",
        "    opt_T = torch.optim.Adam(model_T.parameters(), config.learning_rate, weight_decay=config.l2_regularization)\n",
        "    lr_sch_S = torch.optim.lr_scheduler.ExponentialLR(opt_S, config.learning_rate_decay)\n",
        "    lr_sch_trans = torch.optim.lr_scheduler.ExponentialLR(opt_trans, config.learning_rate_decay)\n",
        "    lr_sch_T = torch.optim.lr_scheduler.ExponentialLR(opt_T, config.learning_rate_decay)\n",
        "\n",
        "    best_loss, batch_step = 100, 0\n",
        "    model_T.train()\n",
        "    for epoch in range(config.train_epochs):\n",
        "        model_S.train()\n",
        "        total_loss, total_samples = 0, 0\n",
        "        for batch in train_dataloader:\n",
        "            user_reviews, item_reviews, reviews, ratings, user_ids, item_ids = [x.to(config.device) for x in batch]\n",
        "\n",
        "    ###########################################################\n",
        "\n",
        "            # Algorithm 1. Training Transnet\n",
        "\n",
        "                ## Step 1. Train Target Network on the actual review\n",
        "            latent_T, pred_T = model_T(reviews)\n",
        "            loss_T = F.l1_loss(pred_T, ratings)\n",
        "            opt_T.zero_grad()\n",
        "            loss_T.backward()\n",
        "\n",
        "                ## Step 2. Learn to Transform\n",
        "            latent_S, pred_S = model_S(user_reviews, item_reviews, user_ids, item_ids)\n",
        "            loss_trans = F.mse_loss(latent_S, latent_T.detach())\n",
        "            opt_trans.zero_grad()\n",
        "            loss_trans.backward()\n",
        "\n",
        "                ## Step 3. Train a predictor on the transform input\n",
        "            loss_S = F.l1_loss(pred_S, ratings, reduction='sum')\n",
        "            opt_S.zero_grad()\n",
        "            loss_S.backward()\n",
        "\n",
        "            opt_T.step()\n",
        "            opt_trans.step()\n",
        "            opt_S.step()\n",
        "\n",
        "            batch_step += 1\n",
        "            total_loss += loss_S.item()         # summing over all loss of source network\n",
        "            total_samples += len(pred_S)\n",
        "\n",
        "            if batch_step % 500 == 0:           # valid per 500 steps\n",
        "                model_S.eval()\n",
        "                valid_mse = calculate_mse(model_S, valid_dataloader, config.device)\n",
        "                if best_loss > valid_mse:\n",
        "                    best_loss = valid_mse\n",
        "                    torch.save(model_S, model_path)\n",
        "                print(f\"{date()}###### Step {batch_step:3d}; validation mse {valid_mse:.6f}\")\n",
        "                model_S.train()\n",
        "\n",
        "        lr_sch_S.step()\n",
        "        lr_sch_trans.step()\n",
        "        lr_sch_T.step()\n",
        "        valid_mse = calculate_mse(model_S, valid_dataloader, config.device)\n",
        "        if best_loss > valid_mse:\n",
        "            best_loss = valid_mse\n",
        "            torch.save(model_S, model_path)\n",
        "        print(f\"{date()}#### Epoch {epoch:3d}; train mse {total_loss/total_samples:.6f}; validation mse {valid_mse:.6f}\")\n",
        "\n",
        "    print(f'{date()}## End of training!')\n",
        "\n",
        "###########################################################\n",
        "\n",
        "# Algorithm 3. Testing using TransNet\n",
        "    ## Step 3. Final Calculation\n",
        "\n",
        "def test(dataloader, best_model, config):\n",
        "    print(f'{date()}## Start the testing!')\n",
        "    test_loss = calculate_mse(best_model, dataloader, config.device)\n",
        "    print(f\"{date()}## Test end, test mse is {test_loss:.6f}\")\n",
        "\n",
        "###########################################################"
      ],
      "metadata": {
        "id": "B1U495JSmodF"
      },
      "execution_count": null,
      "outputs": []
    },
    {
      "cell_type": "markdown",
      "source": [
        "best model = SourceNet과 TargetNet에서 Transform Layer를 통해 도출된 잠재특성(latent)의 표현\n",
        "\n",
        "\n",
        "TargetNet은 평점과 고객이 동시에 존재하는 경우이기에 CNN과 Factorization Machine(FM)으로 평점 예측 수행함."
      ],
      "metadata": {
        "id": "nHxGllbr2I_7"
      }
    },
    {
      "cell_type": "markdown",
      "source": [
        "**SourceNet는 forward Function에 기재되어있다.**\n",
        "\n",
        "user_latent = self.cnn_u(u_vec)\n",
        "\n",
        "item_latent = self.cnn_i(i_vec)\n",
        "\n",
        "concat_latent = torch.cat((user_latent, item_latent), dim=1)\n",
        "\n",
        "trans_latent = self.transform(concat_latent)"
      ],
      "metadata": {
        "id": "3upeenL33U8x"
      }
    },
    {
      "cell_type": "markdown",
      "source": [
        "# Test and Result"
      ],
      "metadata": {
        "id": "Jj6Lu0gbZp5u"
      }
    },
    {
      "cell_type": "code",
      "source": [
        "import torch\n",
        "import inspect\n",
        "import os\n",
        "import pickle\n",
        "import pandas as pd\n",
        "import time\n",
        "from torch.nn import functional as F\n",
        "from torch.utils.data import Dataset, DataLoader"
      ],
      "metadata": {
        "id": "QqAt93dan3Z1"
      },
      "execution_count": null,
      "outputs": []
    },
    {
      "cell_type": "markdown",
      "source": [
        "Word Embedding과 Dictionary pickle file 경로 확인"
      ],
      "metadata": {
        "id": "r1G17znFyaSS"
      }
    },
    {
      "cell_type": "code",
      "source": [
        "\n",
        "\n",
        "\n",
        "# 파일 경로 확인\n",
        "assert os.path.exists('/content/drive/MyDrive/IDS/amaxon reviews 2023/Transnet/word_emb.pkl'), \"word_emb.pkl not found\"\n",
        "assert os.path.exists('/content/drive/MyDrive/IDS/amaxon reviews 2023/Transnet/dict.pkl'), \"dict.pkl not found\"\n"
      ],
      "metadata": {
        "id": "y938SzDZo0A2"
      },
      "execution_count": null,
      "outputs": []
    },
    {
      "cell_type": "code",
      "source": [
        "# 실행부\n",
        "if __name__ == '__main__':\n",
        "    config = Config()\n",
        "    print(config)\n",
        "\n",
        "    # 파일 경로 확인\n",
        "    assert os.path.exists(config.train_file), \"Train file not found\"\n",
        "    assert os.path.exists(config.valid_file), \"Valid file not found\"\n",
        "    assert os.path.exists(config.test_file), \"Test file not found\"\n",
        "\n",
        "    print(\"## Load word2vec and data...\")\n",
        "    word_emb = pickle.load(open('/content/drive/MyDrive/IDS/amaxon reviews 2023/Transnet/word_emb.pkl', 'rb'), encoding='iso-8859-1')\n",
        "    word_dict = pickle.load(open('/content/drive/MyDrive/IDS/amaxon reviews 2023/Transnet/dict.pkl', 'rb'), encoding='iso-8859-1')\n",
        "\n",
        "    # 데이터셋 생성\n",
        "    train_dataset = TransNetsDataset(config.train_file, word_dict, config)\n",
        "    valid_dataset = TransNetsDataset(config.valid_file, word_dict, config)\n",
        "    test_dataset = TransNetsDataset(config.test_file, word_dict, config)\n",
        "\n",
        "    # 데이터셋 크기 출력\n",
        "    print(f\"Train dataset size: {len(train_dataset)}\")\n",
        "    print(f\"Valid dataset size: {len(valid_dataset)}\")\n",
        "    print(f\"Test dataset size: {len(test_dataset)}\")\n",
        "\n",
        "    # 데이터 로더 생성\n",
        "    train_dlr = DataLoader(train_dataset, batch_size=config.batch_size, shuffle=True)\n",
        "    valid_dlr = DataLoader(valid_dataset, batch_size=config.batch_size, shuffle=True)\n",
        "    test_dlr = DataLoader(test_dataset, batch_size=config.batch_size, shuffle=True)\n",
        "\n",
        "    source_model = SourceNet(config, word_emb, extend_model=config.extension).to(config.device)\n",
        "    target_model = TargetNet(config, word_emb).to(config.device)\n",
        "\n",
        "    os.makedirs(os.path.dirname(config.model_file), exist_ok=True)\n",
        "\n",
        "    train(train_dlr, valid_dlr, source_model, target_model, config, config.model_file)\n",
        "    test(test_dlr, torch.load(config.model_file), config)\n"
      ],
      "metadata": {
        "colab": {
          "base_uri": "https://localhost:8080/"
        },
        "id": "yjE6CkvKjjaL",
        "outputId": "711e1da0-a01d-45bd-b954-7c3d289dfc4d"
      },
      "execution_count": null,
      "outputs": [
        {
          "output_type": "stream",
          "name": "stdout",
          "text": [
            "<__main__.Config object at 0x7c20857c3520>\n",
            "## Load word2vec and data...\n",
            "Train dataset size: 12795\n",
            "Valid dataset size: 1599\n",
            "Test dataset size: 1600\n",
            "2024-12-19 10:55:57## Start the training!\n",
            "2024-12-19 10:55:58#### Initial train mse 17.205638, validation mse 17.108458\n",
            "2024-12-19 10:55:59#### Epoch   0; train mse 2.306171; validation mse 3.650761\n",
            "2024-12-19 10:56:00#### Epoch   1; train mse 1.568476; validation mse 3.483900\n",
            "2024-12-19 10:56:01#### Epoch   2; train mse 1.524776; validation mse 3.353805\n",
            "2024-12-19 10:56:02#### Epoch   3; train mse 1.492822; validation mse 3.248811\n",
            "2024-12-19 10:56:03###### Step 500; validation mse 2.477248\n",
            "2024-12-19 10:56:03#### Epoch   4; train mse 1.484235; validation mse 3.192119\n",
            "2024-12-19 10:56:04#### Epoch   5; train mse 1.459969; validation mse 3.300853\n",
            "2024-12-19 10:56:05#### Epoch   6; train mse 1.428232; validation mse 3.157721\n",
            "2024-12-19 10:56:06#### Epoch   7; train mse 1.414320; validation mse 3.043463\n",
            "2024-12-19 10:56:07#### Epoch   8; train mse 1.396352; validation mse 3.021115\n",
            "2024-12-19 10:56:08###### Step 1000; validation mse 2.533133\n",
            "2024-12-19 10:56:08#### Epoch   9; train mse 1.379047; validation mse 2.920357\n",
            "2024-12-19 10:56:09#### Epoch  10; train mse 1.368798; validation mse 3.018130\n",
            "2024-12-19 10:56:10#### Epoch  11; train mse 1.355127; validation mse 2.860276\n",
            "2024-12-19 10:56:11#### Epoch  12; train mse 1.342024; validation mse 3.031655\n",
            "2024-12-19 10:56:12#### Epoch  13; train mse 1.334807; validation mse 3.083713\n",
            "2024-12-19 10:56:14###### Step 1500; validation mse 2.684822\n",
            "2024-12-19 10:56:14#### Epoch  14; train mse 1.328586; validation mse 3.060491\n",
            "2024-12-19 10:56:14## End of training!\n",
            "2024-12-19 10:56:14## Start the testing!\n",
            "2024-12-19 10:56:14## Test end, test mse is 2.415422\n"
          ]
        },
        {
          "output_type": "stream",
          "name": "stderr",
          "text": [
            "<ipython-input-13-09779ddf4eda>:36: FutureWarning: You are using `torch.load` with `weights_only=False` (the current default value), which uses the default pickle module implicitly. It is possible to construct malicious pickle data which will execute arbitrary code during unpickling (See https://github.com/pytorch/pytorch/blob/main/SECURITY.md#untrusted-models for more details). In a future release, the default value for `weights_only` will be flipped to `True`. This limits the functions that could be executed during unpickling. Arbitrary objects will no longer be allowed to be loaded via this mode unless they are explicitly allowlisted by the user via `torch.serialization.add_safe_globals`. We recommend you start setting `weights_only=True` for any use case where you don't have full control of the loaded file. Please open an issue on GitHub for any issues related to this experimental feature.\n",
            "  test(test_dlr, torch.load(config.model_file), config)\n"
          ]
        }
      ]
    }
  ]
}