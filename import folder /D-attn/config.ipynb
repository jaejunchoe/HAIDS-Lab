{
  "nbformat": 4,
  "nbformat_minor": 0,
  "metadata": {
    "colab": {
      "provenance": [],
      "authorship_tag": "ABX9TyO+TdqoWAo+5Mp6fTltzgra",
      "include_colab_link": true
    },
    "kernelspec": {
      "name": "python3",
      "display_name": "Python 3"
    },
    "language_info": {
      "name": "python"
    }
  },
  "cells": [
    {
      "cell_type": "markdown",
      "metadata": {
        "id": "view-in-github",
        "colab_type": "text"
      },
      "source": [
        "<a href=\"https://colab.research.google.com/github/jaejunchoe/HAIDS-Lab/blob/main/config.ipynb\" target=\"_parent\"><img src=\"https://colab.research.google.com/assets/colab-badge.svg\" alt=\"Open In Colab\"/></a>"
      ]
    },
    {
      "cell_type": "code",
      "execution_count": null,
      "metadata": {
        "id": "XBFZw1rzLs73"
      },
      "outputs": [],
      "source": [
        "import torch\n",
        "\n",
        "class Config:\n",
        "    def __init__(self):\n",
        "        self.device = torch.device(\"cuda:0\" if torch.cuda.is_available() else \"cpu\")\n",
        "        self.num_epochs = 10\n",
        "        self.batch_size = 32\n",
        "        self.learning_rate = 1e-4\n",
        "        self.hidden_size = 500\n",
        "        self.output_size = 1\n",
        "        self.win_size = 5\n",
        "        self.channels_local = 200\n",
        "        self.channels_global = 100\n",
        "\n",
        "        # 데이터 경로\n",
        "        self.drive_base = '/content/drive/MyDrive/IDS/amaxon reviews 2023'\n",
        "        self.train_file = f'{self.drive_base}/dataset/cleaned_Transnet_T2_train.csv'\n",
        "        self.valid_file = f'{self.drive_base}/dataset/cleaned_Transnet_T2__valid.csv'\n",
        "        self.test_file = f'{self.drive_base}/dataset/cleaned_Transnet_T2_test.csv'\n",
        "        self.emb_file = f'{self.drive_base}/combined_word_emb.pkl'\n",
        "        self.save_path = f'{self.drive_base}/D-attn/model_save3/'\n",
        "\n",
        "        # 리뷰와 임베딩 관련 설정\n",
        "        self.input_size = 10000\n",
        "        self.embed_size = 64\n",
        "        self.pad = 0\n"
      ]
    }
  ]
}
