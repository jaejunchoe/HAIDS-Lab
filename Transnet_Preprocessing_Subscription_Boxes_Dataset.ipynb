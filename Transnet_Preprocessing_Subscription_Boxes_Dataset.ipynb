{
  "nbformat": 4,
  "nbformat_minor": 0,
  "metadata": {
    "colab": {
      "provenance": [],
      "machine_shape": "hm",
      "collapsed_sections": [
        "v7saF4PIbGK0",
        "yZfY3wNvbyKE",
        "aPgK5ZRTcWVs",
        "zMxnqr74gbxu",
        "NNaOlvIly2z8"
      ],
      "authorship_tag": "ABX9TyNRl6jJrehsj5cAIQ2I0AeJ",
      "include_colab_link": true
    },
    "kernelspec": {
      "name": "python3",
      "display_name": "Python 3"
    },
    "language_info": {
      "name": "python"
    }
  },
  "cells": [
    {
      "cell_type": "markdown",
      "metadata": {
        "id": "view-in-github",
        "colab_type": "text"
      },
      "source": [
        "<a href=\"https://colab.research.google.com/github/jaejunchoe/HAIDS-Lab/blob/main/Transnet_Preprocessing_Subscription_Boxes_Dataset.ipynb\" target=\"_parent\"><img src=\"https://colab.research.google.com/assets/colab-badge.svg\" alt=\"Open In Colab\"/></a>"
      ]
    },
    {
      "cell_type": "markdown",
      "source": [
        "# 준비준비"
      ],
      "metadata": {
        "id": "v7saF4PIbGK0"
      }
    },
    {
      "cell_type": "code",
      "execution_count": null,
      "metadata": {
        "colab": {
          "base_uri": "https://localhost:8080/"
        },
        "id": "U4o_yja2afKC",
        "outputId": "51dafb61-b3f9-4d2f-bd68-c8d0cadbd52b"
      },
      "outputs": [
        {
          "output_type": "stream",
          "name": "stdout",
          "text": [
            "Reading package lists... Done\n",
            "Building dependency tree... Done\n",
            "Reading state information... Done\n",
            "The following NEW packages will be installed:\n",
            "  fonts-nanum\n",
            "0 upgraded, 1 newly installed, 0 to remove and 49 not upgraded.\n",
            "Need to get 10.3 MB of archives.\n",
            "After this operation, 34.1 MB of additional disk space will be used.\n",
            "Get:1 http://archive.ubuntu.com/ubuntu jammy/universe amd64 fonts-nanum all 20200506-1 [10.3 MB]\n",
            "Fetched 10.3 MB in 1s (10.3 MB/s)\n",
            "debconf: unable to initialize frontend: Dialog\n",
            "debconf: (No usable dialog-like program is installed, so the dialog based frontend cannot be used. at /usr/share/perl5/Debconf/FrontEnd/Dialog.pm line 78, <> line 1.)\n",
            "debconf: falling back to frontend: Readline\n",
            "debconf: unable to initialize frontend: Readline\n",
            "debconf: (This frontend requires a controlling tty.)\n",
            "debconf: falling back to frontend: Teletype\n",
            "dpkg-preconfigure: unable to re-open stdin: \n",
            "Selecting previously unselected package fonts-nanum.\n",
            "(Reading database ... 123634 files and directories currently installed.)\n",
            "Preparing to unpack .../fonts-nanum_20200506-1_all.deb ...\n",
            "Unpacking fonts-nanum (20200506-1) ...\n",
            "Setting up fonts-nanum (20200506-1) ...\n",
            "Processing triggers for fontconfig (2.13.1-4.2ubuntu5) ...\n",
            "/usr/share/fonts: caching, new cache contents: 0 fonts, 1 dirs\n",
            "/usr/share/fonts/truetype: caching, new cache contents: 0 fonts, 3 dirs\n",
            "/usr/share/fonts/truetype/humor-sans: caching, new cache contents: 1 fonts, 0 dirs\n",
            "/usr/share/fonts/truetype/liberation: caching, new cache contents: 16 fonts, 0 dirs\n",
            "/usr/share/fonts/truetype/nanum: caching, new cache contents: 12 fonts, 0 dirs\n",
            "/usr/local/share/fonts: caching, new cache contents: 0 fonts, 0 dirs\n",
            "/root/.local/share/fonts: skipping, no such directory\n",
            "/root/.fonts: skipping, no such directory\n",
            "/usr/share/fonts/truetype: skipping, looped directory detected\n",
            "/usr/share/fonts/truetype/humor-sans: skipping, looped directory detected\n",
            "/usr/share/fonts/truetype/liberation: skipping, looped directory detected\n",
            "/usr/share/fonts/truetype/nanum: skipping, looped directory detected\n",
            "/var/cache/fontconfig: cleaning cache directory\n",
            "/root/.cache/fontconfig: not cleaning non-existent cache directory\n",
            "/root/.fontconfig: not cleaning non-existent cache directory\n",
            "fc-cache: succeeded\n"
          ]
        }
      ],
      "source": [
        "## 1번 실행 -> 런타임 다시 시작 -> 2번 실행 -> 3번 실행\n",
        "\n",
        "## 1번\n",
        "\n",
        "!sudo apt-get install -y fonts-nanum\n",
        "!sudo fc-cache -fv\n",
        "!rm ~/.cache/matplotlib -rf"
      ]
    },
    {
      "cell_type": "code",
      "source": [
        "## 2번\n",
        "\n",
        "import matplotlib.pyplot as plt\n",
        "\n",
        "plt.rc('font', family='NanumBarunGothic')"
      ],
      "metadata": {
        "id": "9_q2jkrcbDcT"
      },
      "execution_count": null,
      "outputs": []
    },
    {
      "cell_type": "code",
      "source": [
        "## 3번\n",
        "\n",
        "import pandas as pd\n",
        "import matplotlib.pyplot as plt\n",
        "import matplotlib.font_manager as fm\n",
        "import seaborn as sns\n",
        "\n",
        "# 나눔고딕 폰트 경로 설정\n",
        "path = '/usr/share/fonts/truetype/nanum/NanumGothic.ttf'\n",
        "font_name = fm.FontProperties(fname=path, size=10).get_name()\n",
        "plt.rc('font', family=font_name)\n",
        "\n",
        "# 그래프 그리기 예시\n",
        "data = {'가나다': [10, 15, 7], '라마바': [20, 8, 12]}\n",
        "df = pd.DataFrame(data)\n",
        "sns.barplot(data=df, x='가나다', y='라마바')\n",
        "plt.title('한글 그래프')\n",
        "plt.show()\n"
      ],
      "metadata": {
        "colab": {
          "base_uri": "https://localhost:8080/",
          "height": 469
        },
        "id": "PaeJGhvObFcM",
        "outputId": "cd5c5e3d-9dcf-490c-e476-e3609d1f0b23"
      },
      "execution_count": null,
      "outputs": [
        {
          "output_type": "display_data",
          "data": {
            "text/plain": [
              "<Figure size 640x480 with 1 Axes>"
            ],
            "image/png": "[encoded data removed]"
          },
          "metadata": {}
        }
      ]
    },
    {
      "cell_type": "markdown",
      "source": [
        "# Data Loading"
      ],
      "metadata": {
        "id": "yZfY3wNvbyKE"
      }
    },
    {
      "cell_type": "code",
      "source": [
        "from google.colab import drive\n",
        "drive.mount('/content/drive')"
      ],
      "metadata": {
        "colab": {
          "base_uri": "https://localhost:8080/"
        },
        "id": "hVKmFUtNbLUr",
        "outputId": "0ac8c0fa-a5b8-4724-b40b-6282cd3bb2da"
      },
      "execution_count": null,
      "outputs": [
        {
          "output_type": "stream",
          "name": "stdout",
          "text": [
            "Mounted at /content/drive\n"
          ]
        }
      ]
    },
    {
      "cell_type": "markdown",
      "source": [
        "Subscription_Boxes\n",
        "\n",
        "https://amazon-reviews-2023.github.io/"
      ],
      "metadata": {
        "id": "kcS6ccxlNrCS"
      }
    },
    {
      "cell_type": "code",
      "source": [
        "import json\n",
        "import gzip\n",
        "import requests\n",
        "\n",
        "# 파일 URL\n",
        "url = 'https://datarepo.eng.ucsd.edu/mcauley_group/data/amazon_2023/raw/review_categories/Subscription_Boxes.jsonl.gz'\n",
        "\n",
        "# 파일 다운로드\n",
        "response = requests.get(url)\n",
        "file_content = response.content\n",
        "\n",
        "# gzip으로 압축 해제\n",
        "decompressed = gzip.decompress(file_content)\n",
        "\n",
        "# 파일 읽기 및 JSON 파싱\n",
        "for line in decompressed.decode('utf-8').splitlines():\n",
        "    # JSON 객체로 변환하여 출력\n",
        "    print(json.loads(line.strip()))\n"
      ],
      "metadata": {
        "id": "QDjEncusNk4t"
      },
      "execution_count": null,
      "outputs": []
    },
    {
      "cell_type": "code",
      "source": [
        "import json\n",
        "import gzip\n",
        "import requests\n",
        "import pandas as pd\n",
        "\n",
        "# 파일 URL\n",
        "url = 'https://datarepo.eng.ucsd.edu/mcauley_group/data/amazon_2023/raw/review_categories/Subscription_Boxes.jsonl.gz'\n",
        "\n",
        "# 파일 다운로드\n",
        "response = requests.get(url)\n",
        "file_content = response.content\n",
        "\n",
        "# gzip으로 압축 해제\n",
        "decompressed = gzip.decompress(file_content)\n",
        "\n",
        "# JSON 데이터를 저장할 리스트\n",
        "data = []\n",
        "\n",
        "# 파일 읽기 및 JSON 파싱\n",
        "for line in decompressed.decode('utf-8').splitlines():\n",
        "    # JSON 객체로 변환하여 리스트에 추가\n",
        "    data.append(json.loads(line.strip()))\n",
        "\n",
        "# pandas DataFrame으로 변환\n",
        "df = pd.DataFrame(data)\n",
        "\n",
        "# DataFrame을 Excel 파일로 저장\n",
        "output_file = '/content/drive/MyDrive/IDS/amaxon reviews 2023/dataset/Subscription Boxes_Reviews_ver01.xlsx'\n",
        "df.to_excel(output_file, index=False)\n"
      ],
      "metadata": {
        "id": "cRrGlQOgNo9X"
      },
      "execution_count": null,
      "outputs": []
    },
    {
      "cell_type": "code",
      "source": [
        "import pandas as pd"
      ],
      "metadata": {
        "id": "inSVJZtS2_Aq"
      },
      "execution_count": null,
      "outputs": []
    },
    {
      "cell_type": "markdown",
      "source": [
        "Data loading and Transform to pandas"
      ],
      "metadata": {
        "id": "skdtYbQjcJBl"
      }
    },
    {
      "cell_type": "code",
      "source": [
        "import pandas as pd\n",
        "\n",
        "df = pd.read_excel('/content/drive/MyDrive/IDS/amaxon reviews 2023/dataset/Subscription Boxes_Reviews_ver01.xlsx')\n",
        "\n",
        "df.info()\n",
        "df.head()"
      ],
      "metadata": {
        "colab": {
          "base_uri": "https://localhost:8080/",
          "height": 609
        },
        "id": "zyQsPZqvbzl-",
        "outputId": "311dc1be-aa64-4af0-b4fa-9420928d45d5"
      },
      "execution_count": null,
      "outputs": [
        {
          "output_type": "stream",
          "name": "stdout",
          "text": [
            "<class 'pandas.core.frame.DataFrame'>\n",
            "RangeIndex: 16216 entries, 0 to 16215\n",
            "Data columns (total 10 columns):\n",
            " #   Column             Non-Null Count  Dtype \n",
            "---  ------             --------------  ----- \n",
            " 0   rating             16216 non-null  int64 \n",
            " 1   title              16212 non-null  object\n",
            " 2   text               16212 non-null  object\n",
            " 3   images             16216 non-null  object\n",
            " 4   asin               16216 non-null  object\n",
            " 5   parent_asin        16216 non-null  object\n",
            " 6   user_id            16216 non-null  object\n",
            " 7   timestamp          16216 non-null  int64 \n",
            " 8   helpful_vote       16216 non-null  int64 \n",
            " 9   verified_purchase  16216 non-null  bool  \n",
            "dtypes: bool(1), int64(3), object(6)\n",
            "memory usage: 1.1+ MB\n"
          ]
        },
        {
          "output_type": "execute_result",
          "data": {
            "text/plain": [
              "   rating                       title  \\\n",
              "0       1                     USELESS   \n",
              "1       2         Manufactured where?   \n",
              "2       1  Little bang for your buck.   \n",
              "3       5            New favorite box   \n",
              "4       5                    Coctique   \n",
              "\n",
              "                                                text images        asin  \\\n",
              "0  Absolutely useless nonsense and a complete was...     []  B07G584SHG   \n",
              "1  With a couple of the items, I wasn't quite sur...     []  B07QL1JRCN   \n",
              "2  Two SMALL stuffed animals and 2 little bags of...     []  B07RBYJN37   \n",
              "3  Although I don’t remember signing up for this,...     []  B07KM6T8GV   \n",
              "4  I loved every thing and could use it all. Thin...     []  B07NVL6TJG   \n",
              "\n",
              "  parent_asin                       user_id      timestamp  helpful_vote  \\\n",
              "0  B09WC47S3V  AEMJ2EG5ODOCYUTI54NBXZHDJGSQ  1602133857705             2   \n",
              "1  B07QL1JRCN  AEEJBFZKUBEEMBZUZJV4UHFVEEBQ  1609110735433            20   \n",
              "2  B08N5QKX1Y  AGSVZNZBTSGQBKZDZTQYEZHGDPCQ  1609937315319             4   \n",
              "3  B07KM6T8GV  AFDERNB6BIR3U2DOR3S2KX7KJJXQ  1616156351887             1   \n",
              "4  B07NVKNVNM  AE6P2YJ6FKX332MD56GPJFSHXNJQ  1559533206066             0   \n",
              "\n",
              "   verified_purchase  \n",
              "0               True  \n",
              "1               True  \n",
              "2               True  \n",
              "3               True  \n",
              "4               True  "
            ],
            "text/html": [
              "\n",
              "  <div id=\"df-2887fab5-cda3-42db-b62a-b1ea0db8b18a\" class=\"colab-df-container\">\n",
              "    <div>\n",
              "<style scoped>\n",
              "    .dataframe tbody tr th:only-of-type {\n",
              "        vertical-align: middle;\n",
              "    }\n",
              "\n",
              "    .dataframe tbody tr th {\n",
              "        vertical-align: top;\n",
              "    }\n",
              "\n",
              "    .dataframe thead th {\n",
              "        text-align: right;\n",
              "    }\n",
              "</style>\n",
              "<table border=\"1\" class=\"dataframe\">\n",
              "  <thead>\n",
              "    <tr style=\"text-align: right;\">\n",
              "      <th></th>\n",
              "      <th>rating</th>\n",
              "      <th>title</th>\n",
              "      <th>text</th>\n",
              "      <th>images</th>\n",
              "      <th>asin</th>\n",
              "      <th>parent_asin</th>\n",
              "      <th>user_id</th>\n",
              "      <th>timestamp</th>\n",
              "      <th>helpful_vote</th>\n",
              "      <th>verified_purchase</th>\n",
              "    </tr>\n",
              "  </thead>\n",
              "  <tbody>\n",
              "    <tr>\n",
              "      <th>0</th>\n",
              "      <td>1</td>\n",
              "      <td>USELESS</td>\n",
              "      <td>Absolutely useless nonsense and a complete was...</td>\n",
              "      <td>[]</td>\n",
              "      <td>B07G584SHG</td>\n",
              "      <td>B09WC47S3V</td>\n",
              "      <td>AEMJ2EG5ODOCYUTI54NBXZHDJGSQ</td>\n",
              "      <td>1602133857705</td>\n",
              "      <td>2</td>\n",
              "      <td>True</td>\n",
              "    </tr>\n",
              "    <tr>\n",
              "      <th>1</th>\n",
              "      <td>2</td>\n",
              "      <td>Manufactured where?</td>\n",
              "      <td>With a couple of the items, I wasn't quite sur...</td>\n",
              "      <td>[]</td>\n",
              "      <td>B07QL1JRCN</td>\n",
              "      <td>B07QL1JRCN</td>\n",
              "      <td>AEEJBFZKUBEEMBZUZJV4UHFVEEBQ</td>\n",
              "      <td>1609110735433</td>\n",
              "      <td>20</td>\n",
              "      <td>True</td>\n",
              "    </tr>\n",
              "    <tr>\n",
              "      <th>2</th>\n",
              "      <td>1</td>\n",
              "      <td>Little bang for your buck.</td>\n",
              "      <td>Two SMALL stuffed animals and 2 little bags of...</td>\n",
              "      <td>[]</td>\n",
              "      <td>B07RBYJN37</td>\n",
              "      <td>B08N5QKX1Y</td>\n",
              "      <td>AGSVZNZBTSGQBKZDZTQYEZHGDPCQ</td>\n",
              "      <td>1609937315319</td>\n",
              "      <td>4</td>\n",
              "      <td>True</td>\n",
              "    </tr>\n",
              "    <tr>\n",
              "      <th>3</th>\n",
              "      <td>5</td>\n",
              "      <td>New favorite box</td>\n",
              "      <td>Although I don’t remember signing up for this,...</td>\n",
              "      <td>[]</td>\n",
              "      <td>B07KM6T8GV</td>\n",
              "      <td>B07KM6T8GV</td>\n",
              "      <td>AFDERNB6BIR3U2DOR3S2KX7KJJXQ</td>\n",
              "      <td>1616156351887</td>\n",
              "      <td>1</td>\n",
              "      <td>True</td>\n",
              "    </tr>\n",
              "    <tr>\n",
              "      <th>4</th>\n",
              "      <td>5</td>\n",
              "      <td>Coctique</td>\n",
              "      <td>I loved every thing and could use it all. Thin...</td>\n",
              "      <td>[]</td>\n",
              "      <td>B07NVL6TJG</td>\n",
              "      <td>B07NVKNVNM</td>\n",
              "      <td>AE6P2YJ6FKX332MD56GPJFSHXNJQ</td>\n",
              "      <td>1559533206066</td>\n",
              "      <td>0</td>\n",
              "      <td>True</td>\n",
              "    </tr>\n",
              "  </tbody>\n",
              "</table>\n",
              "</div>\n",
              "    <div class=\"colab-df-buttons\">\n",
              "\n",
              "  <div class=\"colab-df-container\">\n",
              "    <button class=\"colab-df-convert\" onclick=\"convertToInteractive('df-2887fab5-cda3-42db-b62a-b1ea0db8b18a')\"\n",
              "            title=\"Convert this dataframe to an interactive table.\"\n",
              "            style=\"display:none;\">\n",
              "\n",
              "  <svg xmlns=\"http://www.w3.org/2000/svg\" height=\"24px\" viewBox=\"0 -960 960 960\">\n",
              "    <path d=\"M120-120v-720h720v720H120Zm60-500h600v-160H180v160Zm220 220h160v-160H400v160Zm0 220h160v-160H400v160ZM180-400h160v-160H180v160Zm440 0h160v-160H620v160ZM180-180h160v-160H180v160Zm440 0h160v-160H620v160Z\"/>\n",
              "  </svg>\n",
              "    </button>\n",
              "\n",
              "  <style>\n",
              "    .colab-df-container {\n",
              "      display:flex;\n",
              "      gap: 12px;\n",
              "    }\n",
              "\n",
              "    .colab-df-convert {\n",
              "      background-color: #E8F0FE;\n",
              "      border: none;\n",
              "      border-radius: 50%;\n",
              "      cursor: pointer;\n",
              "      display: none;\n",
              "      fill: #1967D2;\n",
              "      height: 32px;\n",
              "      padding: 0 0 0 0;\n",
              "      width: 32px;\n",
              "    }\n",
              "\n",
              "    .colab-df-convert:hover {\n",
              "      background-color: #E2EBFA;\n",
              "      box-shadow: 0px 1px 2px rgba(60, 64, 67, 0.3), 0px 1px 3px 1px rgba(60, 64, 67, 0.15);\n",
              "      fill: #174EA6;\n",
              "    }\n",
              "\n",
              "    .colab-df-buttons div {\n",
              "      margin-bottom: 4px;\n",
              "    }\n",
              "\n",
              "    [theme=dark] .colab-df-convert {\n",
              "      background-color: #3B4455;\n",
              "      fill: #D2E3FC;\n",
              "    }\n",
              "\n",
              "    [theme=dark] .colab-df-convert:hover {\n",
              "      background-color: #434B5C;\n",
              "      box-shadow: 0px 1px 3px 1px rgba(0, 0, 0, 0.15);\n",
              "      filter: drop-shadow(0px 1px 2px rgba(0, 0, 0, 0.3));\n",
              "      fill: #FFFFFF;\n",
              "    }\n",
              "  </style>\n",
              "\n",
              "    <script>\n",
              "      const buttonEl =\n",
              "        document.querySelector('#df-2887fab5-cda3-42db-b62a-b1ea0db8b18a button.colab-df-convert');\n",
              "      buttonEl.style.display =\n",
              "        google.colab.kernel.accessAllowed ? 'block' : 'none';\n",
              "\n",
              "      async function convertToInteractive(key) {\n",
              "        const element = document.querySelector('#df-2887fab5-cda3-42db-b62a-b1ea0db8b18a');\n",
              "        const dataTable =\n",
              "          await google.colab.kernel.invokeFunction('convertToInteractive',\n",
              "                                                    [key], {});\n",
              "        if (!dataTable) return;\n",
              "\n",
              "        const docLinkHtml = 'Like what you see? Visit the ' +\n",
              "          '<a target=\"_blank\" href=https://colab.research.google.com/notebooks/data_table.ipynb>data table notebook</a>'\n",
              "          + ' to learn more about interactive tables.';\n",
              "        element.innerHTML = '';\n",
              "        dataTable['output_type'] = 'display_data';\n",
              "        await google.colab.output.renderOutput(dataTable, element);\n",
              "        const docLink = document.createElement('div');\n",
              "        docLink.innerHTML = docLinkHtml;\n",
              "        element.appendChild(docLink);\n",
              "      }\n",
              "    </script>\n",
              "  </div>\n",
              "\n",
              "\n",
              "<div id=\"df-37b42123-f5de-4f33-b7ec-5ee178d8f183\">\n",
              "  <button class=\"colab-df-quickchart\" onclick=\"quickchart('df-37b42123-f5de-4f33-b7ec-5ee178d8f183')\"\n",
              "            title=\"Suggest charts\"\n",
              "            style=\"display:none;\">\n",
              "\n",
              "<svg xmlns=\"http://www.w3.org/2000/svg\" height=\"24px\"viewBox=\"0 0 24 24\"\n",
              "     width=\"24px\">\n",
              "    <g>\n",
              "        <path d=\"M19 3H5c-1.1 0-2 .9-2 2v14c0 1.1.9 2 2 2h14c1.1 0 2-.9 2-2V5c0-1.1-.9-2-2-2zM9 17H7v-7h2v7zm4 0h-2V7h2v10zm4 0h-2v-4h2v4z\"/>\n",
              "    </g>\n",
              "</svg>\n",
              "  </button>\n",
              "\n",
              "<style>\n",
              "  .colab-df-quickchart {\n",
              "      --bg-color: #E8F0FE;\n",
              "      --fill-color: #1967D2;\n",
              "      --hover-bg-color: #E2EBFA;\n",
              "      --hover-fill-color: #174EA6;\n",
              "      --disabled-fill-color: #AAA;\n",
              "      --disabled-bg-color: #DDD;\n",
              "  }\n",
              "\n",
              "  [theme=dark] .colab-df-quickchart {\n",
              "      --bg-color: #3B4455;\n",
              "      --fill-color: #D2E3FC;\n",
              "      --hover-bg-color: #434B5C;\n",
              "      --hover-fill-color: #FFFFFF;\n",
              "      --disabled-bg-color: #3B4455;\n",
              "      --disabled-fill-color: #666;\n",
              "  }\n",
              "\n",
              "  .colab-df-quickchart {\n",
              "    background-color: var(--bg-color);\n",
              "    border: none;\n",
              "    border-radius: 50%;\n",
              "    cursor: pointer;\n",
              "    display: none;\n",
              "    fill: var(--fill-color);\n",
              "    height: 32px;\n",
              "    padding: 0;\n",
              "    width: 32px;\n",
              "  }\n",
              "\n",
              "  .colab-df-quickchart:hover {\n",
              "    background-color: var(--hover-bg-color);\n",
              "    box-shadow: 0 1px 2px rgba(60, 64, 67, 0.3), 0 1px 3px 1px rgba(60, 64, 67, 0.15);\n",
              "    fill: var(--button-hover-fill-color);\n",
              "  }\n",
              "\n",
              "  .colab-df-quickchart-complete:disabled,\n",
              "  .colab-df-quickchart-complete:disabled:hover {\n",
              "    background-color: var(--disabled-bg-color);\n",
              "    fill: var(--disabled-fill-color);\n",
              "    box-shadow: none;\n",
              "  }\n",
              "\n",
              "  .colab-df-spinner {\n",
              "    border: 2px solid var(--fill-color);\n",
              "    border-color: transparent;\n",
              "    border-bottom-color: var(--fill-color);\n",
              "    animation:\n",
              "      spin 1s steps(1) infinite;\n",
              "  }\n",
              "\n",
              "  @keyframes spin {\n",
              "    0% {\n",
              "      border-color: transparent;\n",
              "      border-bottom-color: var(--fill-color);\n",
              "      border-left-color: var(--fill-color);\n",
              "    }\n",
              "    20% {\n",
              "      border-color: transparent;\n",
              "      border-left-color: var(--fill-color);\n",
              "      border-top-color: var(--fill-color);\n",
              "    }\n",
              "    30% {\n",
              "      border-color: transparent;\n",
              "      border-left-color: var(--fill-color);\n",
              "      border-top-color: var(--fill-color);\n",
              "      border-right-color: var(--fill-color);\n",
              "    }\n",
              "    40% {\n",
              "      border-color: transparent;\n",
              "      border-right-color: var(--fill-color);\n",
              "      border-top-color: var(--fill-color);\n",
              "    }\n",
              "    60% {\n",
              "      border-color: transparent;\n",
              "      border-right-color: var(--fill-color);\n",
              "    }\n",
              "    80% {\n",
              "      border-color: transparent;\n",
              "      border-right-color: var(--fill-color);\n",
              "      border-bottom-color: var(--fill-color);\n",
              "    }\n",
              "    90% {\n",
              "      border-color: transparent;\n",
              "      border-bottom-color: var(--fill-color);\n",
              "    }\n",
              "  }\n",
              "</style>\n",
              "\n",
              "  <script>\n",
              "    async function quickchart(key) {\n",
              "      const quickchartButtonEl =\n",
              "        document.querySelector('#' + key + ' button');\n",
              "      quickchartButtonEl.disabled = true;  // To prevent multiple clicks.\n",
              "      quickchartButtonEl.classList.add('colab-df-spinner');\n",
              "      try {\n",
              "        const charts = await google.colab.kernel.invokeFunction(\n",
              "            'suggestCharts', [key], {});\n",
              "      } catch (error) {\n",
              "        console.error('Error during call to suggestCharts:', error);\n",
              "      }\n",
              "      quickchartButtonEl.classList.remove('colab-df-spinner');\n",
              "      quickchartButtonEl.classList.add('colab-df-quickchart-complete');\n",
              "    }\n",
              "    (() => {\n",
              "      let quickchartButtonEl =\n",
              "        document.querySelector('#df-37b42123-f5de-4f33-b7ec-5ee178d8f183 button');\n",
              "      quickchartButtonEl.style.display =\n",
              "        google.colab.kernel.accessAllowed ? 'block' : 'none';\n",
              "    })();\n",
              "  </script>\n",
              "</div>\n",
              "\n",
              "    </div>\n",
              "  </div>\n"
            ],
            "application/vnd.google.colaboratory.intrinsic+json": {
              "type": "dataframe",
              "variable_name": "df",
              "summary": "{\n  \"name\": \"df\",\n  \"rows\": 16216,\n  \"fields\": [\n    {\n      \"column\": \"rating\",\n      \"properties\": {\n        \"dtype\": \"number\",\n        \"std\": 1,\n        \"min\": 1,\n        \"max\": 5,\n        \"num_unique_values\": 5,\n        \"samples\": [\n          2,\n          3,\n          5\n        ],\n        \"semantic_type\": \"\",\n        \"description\": \"\"\n      }\n    },\n    {\n      \"column\": \"title\",\n      \"properties\": {\n        \"dtype\": \"string\",\n        \"num_unique_values\": 12785,\n        \"samples\": [\n          \"Loved this\",\n          \"Great so far\",\n          \"Beautifully surprised\"\n        ],\n        \"semantic_type\": \"\",\n        \"description\": \"\"\n      }\n    },\n    {\n      \"column\": \"text\",\n      \"properties\": {\n        \"dtype\": \"string\",\n        \"num_unique_values\": 15843,\n        \"samples\": [\n          \"I highly recommend this subscribing to this box. Love everything that was in the box\",\n          \"Unique tea sub box. Nice variety and great quality tea.\",\n          \"Album arrived soon after joining the club , after looking at the track listing I am only familiar with one song on the album . I have not opened the album yet so I can't review the sound quality.\"\n        ],\n        \"semantic_type\": \"\",\n        \"description\": \"\"\n      }\n    },\n    {\n      \"column\": \"images\",\n      \"properties\": {\n        \"dtype\": \"category\",\n        \"num_unique_values\": 1442,\n        \"samples\": [\n          \"[{'small_image_url': 'https://m.media-amazon.com/images/I/A126lfzd56L._SL256_.jpg', 'medium_image_url': 'https://m.media-amazon.com/images/I/A126lfzd56L._SL800_.jpg', 'large_image_url': 'https://m.media-amazon.com/images/I/A126lfzd56L._SL1600_.jpg', 'attachment_type': 'IMAGE'}, {'small_image_url': 'https://m.media-amazon.com/images/I/B1DVxmpz7wS._SL256_.jpg', 'medium_image_url': 'https://m.media-amazon.com/images/I/B1DVxmpz7wS._SL800_.jpg', 'large_image_url': 'https://m.media-amazon.com/images/I/B1DVxmpz7wS._SL1600_.jpg', 'attachment_type': 'IMAGE'}, {'small_image_url': 'https://m.media-amazon.com/images/I/B1ZS+gMJmES._SL256_.jpg', 'medium_image_url': 'https://m.media-amazon.com/images/I/B1ZS+gMJmES._SL800_.jpg', 'large_image_url': 'https://m.media-amazon.com/images/I/B1ZS+gMJmES._SL1600_.jpg', 'attachment_type': 'IMAGE'}, {'small_image_url': 'https://m.media-amazon.com/images/I/B1ePyH7w2sS._SL256_.jpg', 'medium_image_url': 'https://m.media-amazon.com/images/I/B1ePyH7w2sS._SL800_.jpg', 'large_image_url': 'https://m.media-amazon.com/images/I/B1ePyH7w2sS._SL1600_.jpg', 'attachment_type': 'IMAGE'}, {'small_image_url': 'https://m.media-amazon.com/images/I/B1x1VpraQnS._SL256_.jpg', 'medium_image_url': 'https://m.media-amazon.com/images/I/B1x1VpraQnS._SL800_.jpg', 'large_image_url': 'https://m.media-amazon.com/images/I/B1x1VpraQnS._SL1600_.jpg', 'attachment_type': 'IMAGE'}]\",\n          \"[{'small_image_url': 'https://m.media-amazon.com/images/I/61X9TW4B-9L._SL256_.jpg', 'medium_image_url': 'https://m.media-amazon.com/images/I/61X9TW4B-9L._SL800_.jpg', 'large_image_url': 'https://m.media-amazon.com/images/I/61X9TW4B-9L._SL1600_.jpg', 'attachment_type': 'IMAGE'}, {'small_image_url': 'https://m.media-amazon.com/images/I/71ycqiNbBiL._SL256_.jpg', 'medium_image_url': 'https://m.media-amazon.com/images/I/71ycqiNbBiL._SL800_.jpg', 'large_image_url': 'https://m.media-amazon.com/images/I/71ycqiNbBiL._SL1600_.jpg', 'attachment_type': 'IMAGE'}]\",\n          \"[{'small_image_url': 'https://images-na.ssl-images-amazon.com/images/I/91fTFch9PUL._SL256_.jpg', 'medium_image_url': 'https://images-na.ssl-images-amazon.com/images/I/91fTFch9PUL._SL800_.jpg', 'large_image_url': 'https://images-na.ssl-images-amazon.com/images/I/91fTFch9PUL._SL1600_.jpg', 'attachment_type': 'IMAGE'}]\"\n        ],\n        \"semantic_type\": \"\",\n        \"description\": \"\"\n      }\n    },\n    {\n      \"column\": \"asin\",\n      \"properties\": {\n        \"dtype\": \"category\",\n        \"num_unique_values\": 1128,\n        \"samples\": [\n          \"B0BGQLWJQB\",\n          \"B07Z9GH8PZ\",\n          \"B086JC92M8\"\n        ],\n        \"semantic_type\": \"\",\n        \"description\": \"\"\n      }\n    },\n    {\n      \"column\": \"parent_asin\",\n      \"properties\": {\n        \"dtype\": \"category\",\n        \"num_unique_values\": 641,\n        \"samples\": [\n          \"B07KC11QFV\",\n          \"B09ZJ67MDK\",\n          \"B0BGMCZZQB\"\n        ],\n        \"semantic_type\": \"\",\n        \"description\": \"\"\n      }\n    },\n    {\n      \"column\": \"user_id\",\n      \"properties\": {\n        \"dtype\": \"string\",\n        \"num_unique_values\": 15237,\n        \"samples\": [\n          \"AH4H7NZLRVEBCKNV3YUVMS7AEQ6A\",\n          \"AFK53OJO27GT5H5DMG3GESFLCFQA\",\n          \"AF5PM3RHRCWK6KXS7BBSSYGKWZJA\"\n        ],\n        \"semantic_type\": \"\",\n        \"description\": \"\"\n      }\n    },\n    {\n      \"column\": \"timestamp\",\n      \"properties\": {\n        \"dtype\": \"number\",\n        \"std\": 44123400134,\n        \"min\": 1485302279000,\n        \"max\": 1693437206732,\n        \"num_unique_values\": 16016,\n        \"samples\": [\n          1493836230000,\n          1626614389379,\n          1594215150967\n        ],\n        \"semantic_type\": \"\",\n        \"description\": \"\"\n      }\n    },\n    {\n      \"column\": \"helpful_vote\",\n      \"properties\": {\n        \"dtype\": \"number\",\n        \"std\": 20,\n        \"min\": 0,\n        \"max\": 985,\n        \"num_unique_values\": 142,\n        \"samples\": [\n          77,\n          25,\n          66\n        ],\n        \"semantic_type\": \"\",\n        \"description\": \"\"\n      }\n    },\n    {\n      \"column\": \"verified_purchase\",\n      \"properties\": {\n        \"dtype\": \"boolean\",\n        \"num_unique_values\": 2,\n        \"samples\": [\n          false,\n          true\n        ],\n        \"semantic_type\": \"\",\n        \"description\": \"\"\n      }\n    }\n  ]\n}"
            }
          },
          "metadata": {},
          "execution_count": 6
        }
      ]
    },
    {
      "cell_type": "markdown",
      "source": [
        "# Data Processing"
      ],
      "metadata": {
        "id": "IhIkbHIJbJyf"
      }
    },
    {
      "cell_type": "markdown",
      "source": [
        "# Filtered to 'verified_purchase' = True"
      ],
      "metadata": {
        "id": "aPgK5ZRTcWVs"
      }
    },
    {
      "cell_type": "markdown",
      "source": [
        "**'verified_purchase' = 구매인증**\n",
        "\n",
        "\n",
        "구매인증된 데이터만 filtering하여 데이터 신뢰성 확보 (disscusion by Prof)"
      ],
      "metadata": {
        "id": "t1f-Tvq8d1AN"
      }
    },
    {
      "cell_type": "code",
      "source": [
        "df = df[df['verified_purchase'] == True]\n",
        "\n",
        "df.info()"
      ],
      "metadata": {
        "colab": {
          "base_uri": "https://localhost:8080/"
        },
        "id": "cnjqPALGcfMV",
        "outputId": "4e103976-29c2-4a35-b6ce-3c90de5144d2"
      },
      "execution_count": null,
      "outputs": [
        {
          "output_type": "stream",
          "name": "stdout",
          "text": [
            "<class 'pandas.core.frame.DataFrame'>\n",
            "Index: 14262 entries, 0 to 16214\n",
            "Data columns (total 10 columns):\n",
            " #   Column             Non-Null Count  Dtype \n",
            "---  ------             --------------  ----- \n",
            " 0   rating             14262 non-null  int64 \n",
            " 1   title              14258 non-null  object\n",
            " 2   text               14258 non-null  object\n",
            " 3   images             14262 non-null  object\n",
            " 4   asin               14262 non-null  object\n",
            " 5   parent_asin        14262 non-null  object\n",
            " 6   user_id            14262 non-null  object\n",
            " 7   timestamp          14262 non-null  int64 \n",
            " 8   helpful_vote       14262 non-null  int64 \n",
            " 9   verified_purchase  14262 non-null  bool  \n",
            "dtypes: bool(1), int64(3), object(6)\n",
            "memory usage: 1.1+ MB\n"
          ]
        }
      ]
    },
    {
      "cell_type": "markdown",
      "source": [
        "구매인증이 False인 데이터가 있는지 다시 한 번 확인."
      ],
      "metadata": {
        "id": "krUTV4Gydv2k"
      }
    },
    {
      "cell_type": "code",
      "source": [
        "vertificated_df = df[df['verified_purchase'] == False]\n",
        "\n",
        "vertificated_df.info()"
      ],
      "metadata": {
        "colab": {
          "base_uri": "https://localhost:8080/"
        },
        "id": "VvnpDEYlcfOo",
        "outputId": "f86c6287-219c-4eac-cbde-61932c8a62d7"
      },
      "execution_count": null,
      "outputs": [
        {
          "output_type": "stream",
          "name": "stdout",
          "text": [
            "<class 'pandas.core.frame.DataFrame'>\n",
            "Index: 0 entries\n",
            "Data columns (total 10 columns):\n",
            " #   Column             Non-Null Count  Dtype \n",
            "---  ------             --------------  ----- \n",
            " 0   rating             0 non-null      int64 \n",
            " 1   title              0 non-null      object\n",
            " 2   text               0 non-null      object\n",
            " 3   images             0 non-null      object\n",
            " 4   asin               0 non-null      object\n",
            " 5   parent_asin        0 non-null      object\n",
            " 6   user_id            0 non-null      object\n",
            " 7   timestamp          0 non-null      int64 \n",
            " 8   helpful_vote       0 non-null      int64 \n",
            " 9   verified_purchase  0 non-null      bool  \n",
            "dtypes: bool(1), int64(3), object(6)\n",
            "memory usage: 0.0+ bytes\n"
          ]
        }
      ]
    },
    {
      "cell_type": "markdown",
      "source": [
        "# Remove duplicated review data"
      ],
      "metadata": {
        "id": "zMxnqr74gbxu"
      }
    },
    {
      "cell_type": "markdown",
      "source": [
        "Reivew Data가 중복인 데이터 제거"
      ],
      "metadata": {
        "id": "iKzC7jVCgfvP"
      }
    },
    {
      "cell_type": "code",
      "source": [
        "# 중복된 행 확인\n",
        "\n",
        "duplicated = df[df.duplicated(subset=['rating', 'text', 'asin', 'user_id'], keep=False)]\n",
        "\n",
        "duplicated.info()"
      ],
      "metadata": {
        "colab": {
          "base_uri": "https://localhost:8080/"
        },
        "id": "WASYnmdpcfQ5",
        "outputId": "d380adb8-7f55-4456-ce12-5b450e914d8f"
      },
      "execution_count": null,
      "outputs": [
        {
          "output_type": "stream",
          "name": "stdout",
          "text": [
            "<class 'pandas.core.frame.DataFrame'>\n",
            "Index: 336 entries, 1055 to 16170\n",
            "Data columns (total 10 columns):\n",
            " #   Column             Non-Null Count  Dtype \n",
            "---  ------             --------------  ----- \n",
            " 0   rating             336 non-null    int64 \n",
            " 1   title              334 non-null    object\n",
            " 2   text               336 non-null    object\n",
            " 3   images             336 non-null    object\n",
            " 4   asin               336 non-null    object\n",
            " 5   parent_asin        336 non-null    object\n",
            " 6   user_id            336 non-null    object\n",
            " 7   timestamp          336 non-null    int64 \n",
            " 8   helpful_vote       336 non-null    int64 \n",
            " 9   verified_purchase  336 non-null    bool  \n",
            "dtypes: bool(1), int64(3), object(6)\n",
            "memory usage: 26.6+ KB\n"
          ]
        }
      ]
    },
    {
      "cell_type": "code",
      "source": [
        "print(\"중복된 행:\")\n",
        "print(duplicated)\n",
        "print(\"중복된 행 개수:\", duplicated.shape[0])\n"
      ],
      "metadata": {
        "colab": {
          "base_uri": "https://localhost:8080/"
        },
        "id": "GUWFXKLCcfTw",
        "outputId": "570a8653-7a96-47a9-c9a9-ed9c5e6e0853"
      },
      "execution_count": null,
      "outputs": [
        {
          "output_type": "stream",
          "name": "stdout",
          "text": [
            "중복된 행:\n",
            "       rating                                              title  \\\n",
            "1055        2                                                NaN   \n",
            "1056        2                                                NaN   \n",
            "1098        1  Would think 3 or 4 times before ordering this box   \n",
            "1099        1  Overpriced Box of Horrible Tasting Snacks. It’...   \n",
            "1407        4                                 More Makeup please   \n",
            "...       ...                                                ...   \n",
            "16081       5  Beggar's Banquet 50th Anniversary edition? Yes...   \n",
            "16082       5  Beggar's Banquet 50th Anniversary edition? Yes...   \n",
            "16168       5                                             Great!   \n",
            "16169       5                                             Great!   \n",
            "16170       5                                             Great!   \n",
            "\n",
            "                                                    text  \\\n",
            "1055   Tried twice & each time DARK lipstick I won’t ...   \n",
            "1056   Tried twice & each time DARK lipstick I won’t ...   \n",
            "1098   Products in box are horrible and cheap. Compan...   \n",
            "1099   Not Worth It.  The items we got, all tasted ho...   \n",
            "1407   I absolutely love the Allure Beauty Box, howev...   \n",
            "...                                                  ...   \n",
            "16081  Purchased this monthly deal as a Christmas gif...   \n",
            "16082  Purchased this monthly deal as a Christmas gif...   \n",
            "16168  I got my first box and the snacks were actuall...   \n",
            "16169  I got my first box and the snacks were actuall...   \n",
            "16170  I got my first box and the snacks were actuall...   \n",
            "\n",
            "                                                  images        asin  \\\n",
            "1055   [{'small_image_url': 'https://images-na.ssl-im...  B0742LVLMJ   \n",
            "1056   [{'small_image_url': 'https://images-na.ssl-im...  B0742LVLMJ   \n",
            "1098                                                  []  B07NVL6TJG   \n",
            "1099                                                  []  B07DVXFP2N   \n",
            "1407                                                  []  B0742LVLMJ   \n",
            "...                                                  ...         ...   \n",
            "16081                                                 []  B095WFPM47   \n",
            "16082                                                 []  B095WFPM47   \n",
            "16168                                                 []  B07WT5CCKH   \n",
            "16169                                                 []  B07WT5CCKH   \n",
            "16170                                                 []  B07WT5CCKH   \n",
            "\n",
            "      parent_asin                       user_id      timestamp  helpful_vote  \\\n",
            "1055   B07N1572VL  AEAB6JG3Y3DCOYH54PALGDBYBIBA  1575124513855             7   \n",
            "1056   B07N1572VL  AEAB6JG3Y3DCOYH54PALGDBYBIBA  1575124513855             7   \n",
            "1098   B07NVKNVNM  AGEQQYPZ6SKNJOVIIN63DWNKJO2Q  1580433257827            13   \n",
            "1099   B07DVXFP2N  AGEQQYPZ6SKNJOVIIN63DWNKJO2Q  1563625307272             4   \n",
            "1407   B07N1572VL  AHZGRJI26OU5OJOLJHJ2DS4PFY4A  1595602705527             0   \n",
            "...           ...                           ...            ...           ...   \n",
            "16081  B095TRTQKW  AFJGVGZQ2SP4AWMBI5RLDRPAMWMQ  1640815615874             3   \n",
            "16082  B095TRTQKW  AFJGVGZQ2SP4AWMBI5RLDRPAMWMQ  1640815615874             3   \n",
            "16168  B07WT5CCKH  AHQPZ2VUR5IWQBDXGQ6UI242FEPA  1574129967343             2   \n",
            "16169  B07WT5CCKH  AHQPZ2VUR5IWQBDXGQ6UI242FEPA  1574129967343             2   \n",
            "16170  B07WT5CCKH  AHQPZ2VUR5IWQBDXGQ6UI242FEPA  1574129967343             2   \n",
            "\n",
            "       verified_purchase  \n",
            "1055                True  \n",
            "1056                True  \n",
            "1098                True  \n",
            "1099                True  \n",
            "1407                True  \n",
            "...                  ...  \n",
            "16081               True  \n",
            "16082               True  \n",
            "16168               True  \n",
            "16169               True  \n",
            "16170               True  \n",
            "\n",
            "[336 rows x 10 columns]\n",
            "중복된 행 개수: 336\n"
          ]
        }
      ]
    },
    {
      "cell_type": "code",
      "source": [
        "# 중복된 행을 하나만 유지 (keep='last'로 마지막 번째 중복된 행을 남김)\n",
        "    ## keep= 'fisrt' -> 이거 쓰셔도 됩니다.\n",
        "\n",
        "df = df.drop_duplicates(subset=['rating', 'text', 'asin', 'user_id'], keep='last')\n",
        "\n",
        "print(\"중복 제거 후 데이터 크기:\", df.shape)\n",
        "\n",
        "# 결과 출력\n",
        "print(\"중복 제거된 데이터 (첫 번째 중복만 유지):\")\n",
        "print(df)"
      ],
      "metadata": {
        "colab": {
          "base_uri": "https://localhost:8080/"
        },
        "id": "7FEXAMCRqYZt",
        "outputId": "b19a0619-ead4-4fdc-e2f0-cdc31275fe75"
      },
      "execution_count": null,
      "outputs": [
        {
          "output_type": "stream",
          "name": "stdout",
          "text": [
            "중복 제거 후 데이터 크기: (14082, 10)\n",
            "중복 제거된 데이터 (첫 번째 중복만 유지):\n",
            "       rating                                              title  \\\n",
            "0           1                                            USELESS   \n",
            "1           2                                Manufactured where?   \n",
            "2           1                         Little bang for your buck.   \n",
            "3           5                                   New favorite box   \n",
            "4           5                                           Coctique   \n",
            "...       ...                                                ...   \n",
            "16209       3                                       Esperaba más   \n",
            "16210       5                                            5 Stars   \n",
            "16211       5                                       Very pleased   \n",
            "16212       1                                             ??????   \n",
            "16214       1  If you’re looking for a box, you have the wron...   \n",
            "\n",
            "                                                    text  \\\n",
            "0      Absolutely useless nonsense and a complete was...   \n",
            "1      With a couple of the items, I wasn't quite sur...   \n",
            "2      Two SMALL stuffed animals and 2 little bags of...   \n",
            "3      Although I don’t remember signing up for this,...   \n",
            "4      I loved every thing and could use it all. Thin...   \n",
            "...                                                  ...   \n",
            "16209  Llegó una bolsa con pocos plásticos q pueden s...   \n",
            "16210                                            5 stars   \n",
            "16211  My husband loved it and look forward to seeing...   \n",
            "16212  Y’all can do so much better. One pop one mini?...   \n",
            "16214  First few boxes were great. Higher value items...   \n",
            "\n",
            "                                                  images        asin  \\\n",
            "0                                                     []  B07G584SHG   \n",
            "1                                                     []  B07QL1JRCN   \n",
            "2                                                     []  B07RBYJN37   \n",
            "3                                                     []  B07KM6T8GV   \n",
            "4                                                     []  B07NVL6TJG   \n",
            "...                                                  ...         ...   \n",
            "16209                                                 []  B081TBW1FB   \n",
            "16210                                                 []  B07DNLG9ZR   \n",
            "16211                                                 []  B08DDJ1QRS   \n",
            "16212                                                 []  B07GNX34XV   \n",
            "16214  [{'small_image_url': 'https://m.media-amazon.c...  B07VXY755K   \n",
            "\n",
            "      parent_asin                       user_id      timestamp  helpful_vote  \\\n",
            "0      B09WC47S3V  AEMJ2EG5ODOCYUTI54NBXZHDJGSQ  1602133857705             2   \n",
            "1      B07QL1JRCN  AEEJBFZKUBEEMBZUZJV4UHFVEEBQ  1609110735433            20   \n",
            "2      B08N5QKX1Y  AGSVZNZBTSGQBKZDZTQYEZHGDPCQ  1609937315319             4   \n",
            "3      B07KM6T8GV  AFDERNB6BIR3U2DOR3S2KX7KJJXQ  1616156351887             1   \n",
            "4      B07NVKNVNM  AE6P2YJ6FKX332MD56GPJFSHXNJQ  1559533206066             0   \n",
            "...           ...                           ...            ...           ...   \n",
            "16209  B081TBW1FB  AGAQJXCTIO6WRQ2IH6FAF53OTFAQ  1610807546653             1   \n",
            "16210  B07DNLTBG7  AEUZW7L7PEFEHIB5J2SMOWGHIZDA  1541455937408             0   \n",
            "16211  B09TMNNYWH  AGX4UTCIP4SGTHHDA4E3WGPIJFBQ  1608846627043             0   \n",
            "16212  B07GNX34XV  AH4WBYSLGIAMVLCT2PPRTMNNJD6A  1552764727421             1   \n",
            "16214  B07VXY755K  AF6RXEUYBSSOMO5RSS23OPB5QKSA  1656510163413             6   \n",
            "\n",
            "       verified_purchase  \n",
            "0                   True  \n",
            "1                   True  \n",
            "2                   True  \n",
            "3                   True  \n",
            "4                   True  \n",
            "...                  ...  \n",
            "16209               True  \n",
            "16210               True  \n",
            "16211               True  \n",
            "16212               True  \n",
            "16214               True  \n",
            "\n",
            "[14082 rows x 10 columns]\n"
          ]
        }
      ]
    },
    {
      "cell_type": "markdown",
      "source": [
        "중복 제거 실행 후 검증"
      ],
      "metadata": {
        "id": "4ck6NZuotvMR"
      }
    },
    {
      "cell_type": "code",
      "source": [
        "# 중복된 행 확인\n",
        "duplicates = df[df.duplicated(subset=['rating', 'text', 'asin', 'user_id'], keep=False)]\n",
        "\n",
        "print(\"중복된 행:\")\n",
        "print(duplicates)\n",
        "print(\"중복된 행 개수:\", duplicates.shape[0])\n"
      ],
      "metadata": {
        "colab": {
          "base_uri": "https://localhost:8080/"
        },
        "id": "3uVXGRByqbF-",
        "outputId": "64719ba6-9a7a-452e-9536-2614711d3aff"
      },
      "execution_count": null,
      "outputs": [
        {
          "output_type": "stream",
          "name": "stdout",
          "text": [
            "중복된 행:\n",
            "Empty DataFrame\n",
            "Columns: [rating, title, text, images, asin, parent_asin, user_id, timestamp, helpful_vote, verified_purchase]\n",
            "Index: []\n",
            "중복된 행 개수: 0\n"
          ]
        }
      ]
    },
    {
      "cell_type": "code",
      "source": [
        "df.info()"
      ],
      "metadata": {
        "colab": {
          "base_uri": "https://localhost:8080/"
        },
        "id": "Glc6PkHqwb9X",
        "outputId": "5e1de354-4c3a-4d0a-923d-9a3376c79402"
      },
      "execution_count": null,
      "outputs": [
        {
          "output_type": "stream",
          "name": "stdout",
          "text": [
            "<class 'pandas.core.frame.DataFrame'>\n",
            "Index: 14082 entries, 0 to 16214\n",
            "Data columns (total 10 columns):\n",
            " #   Column             Non-Null Count  Dtype \n",
            "---  ------             --------------  ----- \n",
            " 0   rating             14082 non-null  int64 \n",
            " 1   title              14079 non-null  object\n",
            " 2   text               14078 non-null  object\n",
            " 3   images             14082 non-null  object\n",
            " 4   asin               14082 non-null  object\n",
            " 5   parent_asin        14082 non-null  object\n",
            " 6   user_id            14082 non-null  object\n",
            " 7   timestamp          14082 non-null  int64 \n",
            " 8   helpful_vote       14082 non-null  int64 \n",
            " 9   verified_purchase  14082 non-null  bool  \n",
            "dtypes: bool(1), int64(3), object(6)\n",
            "memory usage: 1.1+ MB\n"
          ]
        }
      ]
    },
    {
      "cell_type": "markdown",
      "source": [
        "# text(review)가 없는 행의 정보 추출"
      ],
      "metadata": {
        "id": "NNaOlvIly2z8"
      }
    },
    {
      "cell_type": "code",
      "source": [
        "# 필요한 변수(rating, text, asin, user_id)만 추출\n",
        "selected_columns = df[['rating', 'text', 'asin', 'user_id']]\n",
        "\n",
        "# 추출된 데이터 확인\n",
        "print(selected_columns.head())"
      ],
      "metadata": {
        "colab": {
          "base_uri": "https://localhost:8080/"
        },
        "id": "ELZjYhj2y28M",
        "outputId": "40d7ed4d-5251-457c-cfb3-2b5a17f44a14"
      },
      "execution_count": null,
      "outputs": [
        {
          "output_type": "stream",
          "name": "stdout",
          "text": [
            "   rating                                               text        asin  \\\n",
            "0       1  Absolutely useless nonsense and a complete was...  B07G584SHG   \n",
            "1       2  With a couple of the items, I wasn't quite sur...  B07QL1JRCN   \n",
            "2       1  Two SMALL stuffed animals and 2 little bags of...  B07RBYJN37   \n",
            "3       5  Although I don’t remember signing up for this,...  B07KM6T8GV   \n",
            "4       5  I loved every thing and could use it all. Thin...  B07NVL6TJG   \n",
            "\n",
            "                        user_id  \n",
            "0  AEMJ2EG5ODOCYUTI54NBXZHDJGSQ  \n",
            "1  AEEJBFZKUBEEMBZUZJV4UHFVEEBQ  \n",
            "2  AGSVZNZBTSGQBKZDZTQYEZHGDPCQ  \n",
            "3  AFDERNB6BIR3U2DOR3S2KX7KJJXQ  \n",
            "4  AE6P2YJ6FKX332MD56GPJFSHXNJQ  \n"
          ]
        }
      ]
    },
    {
      "cell_type": "code",
      "source": [
        "blank_review = selected_columns[selected_columns['text'].isnull()]\n",
        "\n",
        "blank_review.info()"
      ],
      "metadata": {
        "colab": {
          "base_uri": "https://localhost:8080/"
        },
        "id": "xblVO6iOzKyr",
        "outputId": "dae2a9dc-4c32-4587-e7be-7c928ab97925"
      },
      "execution_count": null,
      "outputs": [
        {
          "output_type": "stream",
          "name": "stdout",
          "text": [
            "<class 'pandas.core.frame.DataFrame'>\n",
            "Index: 4 entries, 4777 to 13805\n",
            "Data columns (total 4 columns):\n",
            " #   Column   Non-Null Count  Dtype \n",
            "---  ------   --------------  ----- \n",
            " 0   rating   4 non-null      int64 \n",
            " 1   text     0 non-null      object\n",
            " 2   asin     4 non-null      object\n",
            " 3   user_id  4 non-null      object\n",
            "dtypes: int64(1), object(3)\n",
            "memory usage: 160.0+ bytes\n"
          ]
        }
      ]
    },
    {
      "cell_type": "code",
      "source": [
        "print(blank_review)"
      ],
      "metadata": {
        "colab": {
          "base_uri": "https://localhost:8080/"
        },
        "id": "Wi7nPZIZzWIG",
        "outputId": "940f9c37-0976-425f-c454-5de00f505f71"
      },
      "execution_count": null,
      "outputs": [
        {
          "output_type": "stream",
          "name": "stdout",
          "text": [
            "       rating text        asin                       user_id\n",
            "4777        4  NaN  B07MGJZ2MH  AFEE2WA4Z6LGXZM2B66ZALQUSHIQ\n",
            "6418        5  NaN  B08MW4C2BR  AH75XZ62WM5KJEMIK545MXZCMHLA\n",
            "10401       3  NaN  B0742LVLMJ  AGNSO4H7UZ4TD5LZ3TOALCKRHEMA\n",
            "13805       5  NaN  B07XGNHYC2  AEZPBFZWCX3DMLYYO5HMJ3DAFRXQ\n"
          ]
        }
      ]
    },
    {
      "cell_type": "markdown",
      "source": [
        "    row num       rating text        asin                       user_id\n",
        "    4777        4  NaN  B07MGJZ2MH  AFEE2WA4Z6LGXZM2B66ZALQUSHIQ\n",
        "    6418        5  NaN  B08MW4C2BR  AH75XZ62WM5KJEMIK545MXZCMHLA\n",
        "    10401       3  NaN  B0742LVLMJ  AGNSO4H7UZ4TD5LZ3TOALCKRHEMA\n",
        "    13805       5  NaN  B07XGNHYC2  AEZPBFZWCX3DMLYYO5HMJ3DAFRXQ"
      ],
      "metadata": {
        "id": "DCXBCF3LzajM"
      }
    },
    {
      "cell_type": "markdown",
      "source": [
        "전체 데이터셋 저장"
      ],
      "metadata": {
        "id": "gbYNnn-f3HX0"
      }
    },
    {
      "cell_type": "code",
      "source": [
        "# 추출한 데이터를 새로운 엑셀 파일로 저장\n",
        "output_file_path = '/content/drive/MyDrive/IDS/amaxon reviews 2023/preprocessing/241220_All_Subscription Boxes_Reviews_ver01.xlsx'\n",
        "selected_columns.to_excel(output_file_path, index=False)"
      ],
      "metadata": {
        "id": "BRSrjcGA3Lmj"
      },
      "execution_count": null,
      "outputs": []
    },
    {
      "cell_type": "code",
      "source": [
        "file_path = '/content/drive/MyDrive/IDS/amaxon reviews 2023/preprocessing/241220_All_Subscription Boxes_Reviews_ver01.xlsx'\n",
        "\n",
        "df = pd.read_excel(file_path)\n",
        "\n",
        "df.info()\n"
      ],
      "metadata": {
        "colab": {
          "base_uri": "https://localhost:8080/"
        },
        "id": "iEy0vExXH8Ao",
        "outputId": "a9f83459-5b26-4f2a-c696-3cb74ee6db8a"
      },
      "execution_count": null,
      "outputs": [
        {
          "output_type": "stream",
          "name": "stdout",
          "text": [
            "<class 'pandas.core.frame.DataFrame'>\n",
            "RangeIndex: 14082 entries, 0 to 14081\n",
            "Data columns (total 4 columns):\n",
            " #   Column   Non-Null Count  Dtype \n",
            "---  ------   --------------  ----- \n",
            " 0   rating   14082 non-null  int64 \n",
            " 1   text     14078 non-null  object\n",
            " 2   asin     14082 non-null  object\n",
            " 3   user_id  14082 non-null  object\n",
            "dtypes: int64(1), object(3)\n",
            "memory usage: 440.2+ KB\n"
          ]
        }
      ]
    },
    {
      "cell_type": "code",
      "source": [
        "import json\n",
        "import gzip\n",
        "\n",
        "# 결과를 새로운 JSON 파일로 저장\n",
        "output_file_path = '/content/drive/MyDrive/IDS/amaxon reviews 2023/preprocessing/241220_All_Subscription Boxes_Reviews_ver01.json.gz'\n",
        "\n",
        "\n",
        "# JSON 파일 저장\n",
        "df.to_json(output_file_path, orient='records', lines=True, compression='gzip', force_ascii=False)\n",
        "\n",
        "print(f\"파일이 저장되었습니다: {output_file_path}\")"
      ],
      "metadata": {
        "colab": {
          "base_uri": "https://localhost:8080/"
        },
        "id": "ghdUG-4iIQCu",
        "outputId": "e876e0ca-ca7d-487f-c5fc-aea0608f2e2e"
      },
      "execution_count": null,
      "outputs": [
        {
          "output_type": "stream",
          "name": "stdout",
          "text": [
            "파일이 저장되었습니다: /content/drive/MyDrive/IDS/amaxon reviews 2023/preprocessing/241220_All_Subscription Boxes_Reviews_ver01.json.gz\n"
          ]
        }
      ]
    },
    {
      "cell_type": "code",
      "source": [
        "\n",
        "file_path = '/content/drive/MyDrive/IDS/amaxon reviews 2023/preprocessing/241220_All_Subscription Boxes_Reviews_ver01.json.gz'\n",
        "\n",
        "# JSON.GZ 파일 읽기\n",
        "df_loaded = pd.read_json(file_path, orient='records', lines=True, compression='gzip')\n",
        "\n",
        "# 데이터프레임 크기 확인\n",
        "print(\"불러온 데이터프레임의 크기 (shape):\", df_loaded.shape)"
      ],
      "metadata": {
        "colab": {
          "base_uri": "https://localhost:8080/"
        },
        "id": "-f99oU4_IXKI",
        "outputId": "8dfa1636-4b37-422b-95f2-b1071df0e2dd"
      },
      "execution_count": null,
      "outputs": [
        {
          "output_type": "stream",
          "name": "stdout",
          "text": [
            "불러온 데이터프레임의 크기 (shape): (14082, 4)\n"
          ]
        }
      ]
    },
    {
      "cell_type": "markdown",
      "source": [
        "text(review)가 없는 데이터셋 저장"
      ],
      "metadata": {
        "id": "7pmzz1uT5BoI"
      }
    },
    {
      "cell_type": "code",
      "source": [
        "# 추출한 데이터를 새로운 엑셀 파일로 저장\n",
        "output_file_path = '/content/drive/MyDrive/IDS/amaxon reviews 2023/preprocessing/241220_Blank Review Dataset_Subscription Boxes_Reviews_ver01.xlsx'\n",
        "blank_review.to_excel(output_file_path, index=False)"
      ],
      "metadata": {
        "id": "P6llBGcG5A-N"
      },
      "execution_count": null,
      "outputs": []
    },
    {
      "cell_type": "code",
      "source": [
        "file_path = '/content/drive/MyDrive/IDS/amaxon reviews 2023/preprocessing/241220_Blank Review Dataset_Subscription Boxes_Reviews_ver01.xlsx'\n",
        "\n",
        "df = pd.read_excel(file_path)\n",
        "\n",
        "df.info()\n"
      ],
      "metadata": {
        "colab": {
          "base_uri": "https://localhost:8080/"
        },
        "id": "qCmPf__NIGMP",
        "outputId": "f2612292-4178-496c-f4f1-69a94d77eb9a"
      },
      "execution_count": null,
      "outputs": [
        {
          "output_type": "stream",
          "name": "stdout",
          "text": [
            "<class 'pandas.core.frame.DataFrame'>\n",
            "RangeIndex: 4 entries, 0 to 3\n",
            "Data columns (total 4 columns):\n",
            " #   Column   Non-Null Count  Dtype  \n",
            "---  ------   --------------  -----  \n",
            " 0   rating   4 non-null      int64  \n",
            " 1   text     0 non-null      float64\n",
            " 2   asin     4 non-null      object \n",
            " 3   user_id  4 non-null      object \n",
            "dtypes: float64(1), int64(1), object(2)\n",
            "memory usage: 256.0+ bytes\n"
          ]
        }
      ]
    },
    {
      "cell_type": "markdown",
      "source": [
        "# 저장된 데이터셋에 대한 text(review) 전처리 및 파일 분류"
      ],
      "metadata": {
        "id": "m43C_QMVuctL"
      }
    },
    {
      "cell_type": "markdown",
      "source": [
        "train, vaild, test 파일 분류작업 및 전처리"
      ],
      "metadata": {
        "id": "zFA-geng-3Y5"
      }
    },
    {
      "cell_type": "code",
      "source": [
        "import os\n",
        "import pandas as pd\n",
        "from sklearn.model_selection import train_test_split\n",
        "from nltk.tokenize import WordPunctTokenizer\n",
        "\n",
        "# Google Colab 환경에 맞게 파일 경로 설정\n",
        "dataset_path = '/content/drive/MyDrive/IDS/amaxon reviews 2023/preprocessing/241220_임의로 채움_All_Review Dataset_Subscription Boxes_Reviews_ver01.json.gz'\n",
        "stopwords_path = '/content/drive/MyDrive/IDS/amaxon reviews 2023/dataset/stopwords.txt'\n",
        "punctuations_path = '/content/drive/MyDrive/IDS/amaxon reviews 2023/dataset/punctuations.txt'\n",
        "save_dir = '/content/drive/MyDrive/IDS/amaxon reviews 2023/Transnet/T2'\n",
        "\n",
        "# save_dir = 'train valid test 데이터셋을 저장하는데 있어서 원하는 경로로 설정하면 됨'\n",
        "\n",
        "\n",
        "def process_dataset(json_path, select_cols, train_rate, csv_path):\n",
        "    print('#### Read the json file...')\n",
        "    if json_path.endswith('gz'):\n",
        "        df = pd.read_json(json_path, lines=True, compression='gzip')\n",
        "    else:\n",
        "        df = pd.read_json(json_path, lines=True)\n",
        "\n",
        "    # step 1. user와 item에 따라 그룹화(선택된 컬럼으로 데이터 필터링)\n",
        "    df = df[select_cols]\n",
        "    df.columns = ['userID', 'itemID', 'review', 'rating']  # 이름을 통일\n",
        "\n",
        "        ## map user(or item) to number\n",
        "    df['userID'] = df.groupby(df['userID']).ngroup()\n",
        "    df['itemID'] = df.groupby(df['itemID']).ngroup()\n",
        "\n",
        "\n",
        "    # step 2. Stopwords와 punctuations 제거\n",
        "        ## Stopword와 punctuations 제거\n",
        "    with open(stopwords_path) as f:\n",
        "        stop_words = set(f.read().splitlines())\n",
        "    with open(punctuations_path) as f:\n",
        "        punctuations = set(f.read().splitlines())\n",
        "\n",
        "        ## 텍스트 전처리 함수\n",
        "    def clean_review(review):\n",
        "        review = review.lower()\n",
        "        for p in punctuations:\n",
        "            review = review.replace(p, ' ')\n",
        "        review = WordPunctTokenizer().tokenize(review)\n",
        "        review = [word for word in review if word not in stop_words]\n",
        "        return ' '.join(review)\n",
        "\n",
        "    # 텍스트 전처리 이후의 데이터셋에서 Null 값 제거 및 리뷰 전처리\n",
        "    df = df.drop(df[[not isinstance(x, str) or len(x) == 0 for x in df['review']]].index)\n",
        "    df['review'] = df['review'].apply(clean_review)\n",
        "\n",
        "    # 데이터셋 분할\n",
        "    train, valid = train_test_split(df, test_size=1 - train_rate, random_state=3)\n",
        "    valid, test = train_test_split(valid, test_size=0.5, random_state=4)\n",
        "\n",
        "    # 저장 디렉토리 생성\n",
        "    os.makedirs(csv_path, exist_ok=True)\n",
        "    train.to_csv(os.path.join(csv_path, 'train.csv'), index=False, header=False)\n",
        "    valid.to_csv(os.path.join(csv_path, 'valid.csv'), index=False, header=False)\n",
        "    test.to_csv(os.path.join(csv_path, 'test.csv'), index=False, header=False)\n",
        "\n",
        "    print(f'#### Split and saved dataset as csv: train {len(train)}, valid {len(valid)}, test {len(test)}')\n",
        "    print(f'#### Total: {len(df)} reviews, {len(df.groupby(\"userID\"))} users, {len(df.groupby(\"itemID\"))} items.')\n",
        "    return train, valid, test\n",
        "\n",
        "\n",
        "# Google Colab에서 직접 실행\n",
        "if __name__ == '__main__':\n",
        "    # 데이터셋 컬럼 설정 train:valid:test = 8:1:1\n",
        "    select_cols = ['user_id', 'parent_asin', 'text', 'rating']\n",
        "    train_rate = 0.8  # 학습 데이터 비율\n",
        "\n",
        "    # 데이터셋 처리\n",
        "    process_dataset(dataset_path, select_cols, train_rate, save_dir)\n"
      ],
      "metadata": {
        "id": "cl4AeSjE-3Y6"
      },
      "execution_count": null,
      "outputs": []
    }
  ]
}