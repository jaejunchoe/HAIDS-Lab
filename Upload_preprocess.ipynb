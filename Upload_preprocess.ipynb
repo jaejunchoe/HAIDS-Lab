{
  "cells": [
    {
      "cell_type": "markdown",
      "metadata": {
        "id": "view-in-github",
        "colab_type": "text"
      },
      "source": [
        "<a href=\"https://colab.research.google.com/github/jaejunchoe/HAIDS-Lab/blob/main/Upload_preprocess.ipynb\" target=\"_parent\"><img src=\"https://colab.research.google.com/assets/colab-badge.svg\" alt=\"Open In Colab\"/></a>"
      ]
    },
    {
      "cell_type": "code",
      "source": [
        "from google.colab import drive\n",
        "drive.mount('/content/drive')"
      ],
      "metadata": {
        "colab": {
          "base_uri": "https://localhost:8080/"
        },
        "id": "z9gqcAQIZiCw",
        "outputId": "0a1f55b7-18a8-41ef-a415-39fb7a4d5e6c"
      },
      "id": "z9gqcAQIZiCw",
      "execution_count": null,
      "outputs": [
        {
          "output_type": "stream",
          "name": "stdout",
          "text": [
            "Mounted at /content/drive\n"
          ]
        }
      ]
    },
    {
      "cell_type": "code",
      "execution_count": null,
      "id": "afa72bd4",
      "metadata": {
        "colab": {
          "base_uri": "https://localhost:8080/"
        },
        "id": "afa72bd4",
        "outputId": "5fce5049-2463-421a-bee8-7a47fe1510c5"
      },
      "outputs": [
        {
          "output_type": "stream",
          "name": "stdout",
          "text": [
            "#### Read the json file...\n",
            "#### Split and saved dataset as csv: train 12795, valid 1599, test 1600\n",
            "#### Total: 15994 reviews, 15225 users, 641 items.\n"
          ]
        }
      ],
      "source": [
        "import os\n",
        "import pandas as pd\n",
        "from sklearn.model_selection import train_test_split\n",
        "from nltk.tokenize import WordPunctTokenizer\n",
        "\n",
        "# Google Colab 환경에 맞게 파일 경로 설정\n",
        "dataset_path = '/content/drive/MyDrive/IDS/amaxon reviews 2023/dataset/전처리완료_Subscription_Boxes_Reviews.json.gz'\n",
        "stopwords_path = '/content/drive/MyDrive/IDS/amaxon reviews 2023/dataset/stopwords.txt'\n",
        "punctuations_path = '/content/drive/MyDrive/IDS/amaxon reviews 2023/dataset/punctuations.txt'\n",
        "save_dir = '/content/drive/MyDrive/IDS/amaxon reviews 2023/Transnet/T2'\n",
        "\n",
        "def process_dataset(json_path, select_cols, train_rate, csv_path):\n",
        "    print('#### Read the json file...')\n",
        "    if json_path.endswith('gz'):\n",
        "        df = pd.read_json(json_path, lines=True, compression='gzip')\n",
        "    else:\n",
        "        df = pd.read_json(json_path, lines=True)\n",
        "\n",
        "    # 선택된 컬럼으로 데이터 필터링\n",
        "    df = df[select_cols]\n",
        "    df.columns = ['userID', 'itemID', 'review', 'rating']  # 이름을 통일\n",
        "\n",
        "    # map user(or item) to number\n",
        "    df['userID'] = df.groupby(df['userID']).ngroup()\n",
        "    df['itemID'] = df.groupby(df['itemID']).ngroup()\n",
        "\n",
        "\n",
        "    # Stopwords와 punctuations 파일 읽기\n",
        "    with open(stopwords_path) as f:\n",
        "        stop_words = set(f.read().splitlines())\n",
        "    with open(punctuations_path) as f:\n",
        "        punctuations = set(f.read().splitlines())\n",
        "\n",
        "    # 텍스트 전처리 함수\n",
        "    def clean_review(review):\n",
        "        review = review.lower()\n",
        "        for p in punctuations:\n",
        "            review = review.replace(p, ' ')\n",
        "        review = WordPunctTokenizer().tokenize(review)\n",
        "        review = [word for word in review if word not in stop_words]\n",
        "        return ' '.join(review)\n",
        "\n",
        "    # Null 값 제거 및 리뷰 전처리\n",
        "    df = df.drop(df[[not isinstance(x, str) or len(x) == 0 for x in df['review']]].index)\n",
        "    df['review'] = df['review'].apply(clean_review)\n",
        "\n",
        "    # 데이터셋 분할\n",
        "    train, valid = train_test_split(df, test_size=1 - train_rate, random_state=3)\n",
        "    valid, test = train_test_split(valid, test_size=0.5, random_state=4)\n",
        "\n",
        "    # 저장 디렉토리 생성\n",
        "    os.makedirs(csv_path, exist_ok=True)\n",
        "    train.to_csv(os.path.join(csv_path, 'train.csv'), index=False, header=False)\n",
        "    valid.to_csv(os.path.join(csv_path, 'valid.csv'), index=False, header=False)\n",
        "    test.to_csv(os.path.join(csv_path, 'test.csv'), index=False, header=False)\n",
        "\n",
        "    print(f'#### Split and saved dataset as csv: train {len(train)}, valid {len(valid)}, test {len(test)}')\n",
        "    print(f'#### Total: {len(df)} reviews, {len(df.groupby(\"userID\"))} users, {len(df.groupby(\"itemID\"))} items.')\n",
        "    return train, valid, test\n",
        "\n",
        "\n",
        "# Google Colab에서 직접 실행\n",
        "if __name__ == '__main__':\n",
        "    # 데이터셋 컬럼 설정\n",
        "    select_cols = ['user_id', 'parent_asin', 'text', 'rating']\n",
        "    train_rate = 0.8  # 학습 데이터 비율\n",
        "\n",
        "    # 데이터셋 처리\n",
        "    process_dataset(dataset_path, select_cols, train_rate, save_dir)\n"
      ]
    }
  ],
  "metadata": {
    "colab": {
      "provenance": [],
      "include_colab_link": true
    },
    "language_info": {
      "name": "python"
    },
    "kernelspec": {
      "name": "python3",
      "display_name": "Python 3"
    }
  },
  "nbformat": 4,
  "nbformat_minor": 5
}